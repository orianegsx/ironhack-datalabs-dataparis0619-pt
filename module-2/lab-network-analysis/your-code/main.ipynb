{
 "cells": [
  {
   "cell_type": "markdown",
   "metadata": {},
   "source": [
    "# Network Analysis Lab\n",
    "\n",
    "Complete the following exercises to help solidify your understanding of network analysis."
   ]
  },
  {
   "cell_type": "code",
   "execution_count": 15,
   "metadata": {},
   "outputs": [],
   "source": [
    "import networkx as nx\n",
    "import nxviz as nv\n",
    "import community\n",
    "import pandas as pd\n",
    "import plotly as plt"
   ]
  },
  {
   "cell_type": "code",
   "execution_count": 17,
   "metadata": {},
   "outputs": [],
   "source": [
    "from matplotlib import pyplot as plt\n",
    "\n"
   ]
  },
  {
   "cell_type": "markdown",
   "metadata": {},
   "source": [
    "## U.S. Mens Basketball Data Set\n",
    "\n",
    "In the `us_mens_basketball.csv` data set, each row represents an single basketball player's participation in a single event at a single Olympics. "
   ]
  },
  {
   "cell_type": "code",
   "execution_count": 5,
   "metadata": {},
   "outputs": [],
   "source": [
    "basketball = pd.read_csv('../data/us_mens_basketball.csv')"
   ]
  },
  {
   "cell_type": "code",
   "execution_count": 6,
   "metadata": {},
   "outputs": [
    {
     "data": {
      "text/html": [
       "<div>\n",
       "<style scoped>\n",
       "    .dataframe tbody tr th:only-of-type {\n",
       "        vertical-align: middle;\n",
       "    }\n",
       "\n",
       "    .dataframe tbody tr th {\n",
       "        vertical-align: top;\n",
       "    }\n",
       "\n",
       "    .dataframe thead th {\n",
       "        text-align: right;\n",
       "    }\n",
       "</style>\n",
       "<table border=\"1\" class=\"dataframe\">\n",
       "  <thead>\n",
       "    <tr style=\"text-align: right;\">\n",
       "      <th></th>\n",
       "      <th>ID</th>\n",
       "      <th>Name</th>\n",
       "      <th>Sex</th>\n",
       "      <th>Age</th>\n",
       "      <th>Height</th>\n",
       "      <th>Weight</th>\n",
       "      <th>Team</th>\n",
       "      <th>NOC</th>\n",
       "      <th>Games</th>\n",
       "      <th>Year</th>\n",
       "      <th>Season</th>\n",
       "      <th>City</th>\n",
       "      <th>Sport</th>\n",
       "      <th>Event</th>\n",
       "      <th>Medal</th>\n",
       "    </tr>\n",
       "  </thead>\n",
       "  <tbody>\n",
       "    <tr>\n",
       "      <th>0</th>\n",
       "      <td>351</td>\n",
       "      <td>Julius Shareef Abdur-Rahim</td>\n",
       "      <td>M</td>\n",
       "      <td>23.0</td>\n",
       "      <td>202.0</td>\n",
       "      <td>104.0</td>\n",
       "      <td>United States</td>\n",
       "      <td>USA</td>\n",
       "      <td>2000 Summer</td>\n",
       "      <td>2000</td>\n",
       "      <td>Summer</td>\n",
       "      <td>Sydney</td>\n",
       "      <td>Basketball</td>\n",
       "      <td>Basketball Men's Basketball</td>\n",
       "      <td>Gold</td>\n",
       "    </tr>\n",
       "    <tr>\n",
       "      <th>1</th>\n",
       "      <td>2636</td>\n",
       "      <td>Stephen Todd \"Steve\" Alford</td>\n",
       "      <td>M</td>\n",
       "      <td>19.0</td>\n",
       "      <td>185.0</td>\n",
       "      <td>74.0</td>\n",
       "      <td>United States</td>\n",
       "      <td>USA</td>\n",
       "      <td>1984 Summer</td>\n",
       "      <td>1984</td>\n",
       "      <td>Summer</td>\n",
       "      <td>Los Angeles</td>\n",
       "      <td>Basketball</td>\n",
       "      <td>Basketball Men's Basketball</td>\n",
       "      <td>Gold</td>\n",
       "    </tr>\n",
       "    <tr>\n",
       "      <th>2</th>\n",
       "      <td>2863</td>\n",
       "      <td>Walter Ray Allen</td>\n",
       "      <td>M</td>\n",
       "      <td>25.0</td>\n",
       "      <td>192.0</td>\n",
       "      <td>93.0</td>\n",
       "      <td>United States</td>\n",
       "      <td>USA</td>\n",
       "      <td>2000 Summer</td>\n",
       "      <td>2000</td>\n",
       "      <td>Summer</td>\n",
       "      <td>Sydney</td>\n",
       "      <td>Basketball</td>\n",
       "      <td>Basketball Men's Basketball</td>\n",
       "      <td>Gold</td>\n",
       "    </tr>\n",
       "    <tr>\n",
       "      <th>3</th>\n",
       "      <td>3874</td>\n",
       "      <td>William Lloyd \"Willie\" Anderson, Jr.</td>\n",
       "      <td>M</td>\n",
       "      <td>21.0</td>\n",
       "      <td>200.0</td>\n",
       "      <td>86.0</td>\n",
       "      <td>United States</td>\n",
       "      <td>USA</td>\n",
       "      <td>1988 Summer</td>\n",
       "      <td>1988</td>\n",
       "      <td>Summer</td>\n",
       "      <td>Seoul</td>\n",
       "      <td>Basketball</td>\n",
       "      <td>Basketball Men's Basketball</td>\n",
       "      <td>Bronze</td>\n",
       "    </tr>\n",
       "    <tr>\n",
       "      <th>4</th>\n",
       "      <td>4505</td>\n",
       "      <td>Carmelo Kyan Anthony</td>\n",
       "      <td>M</td>\n",
       "      <td>20.0</td>\n",
       "      <td>203.0</td>\n",
       "      <td>109.0</td>\n",
       "      <td>United States</td>\n",
       "      <td>USA</td>\n",
       "      <td>2004 Summer</td>\n",
       "      <td>2004</td>\n",
       "      <td>Summer</td>\n",
       "      <td>Athina</td>\n",
       "      <td>Basketball</td>\n",
       "      <td>Basketball Men's Basketball</td>\n",
       "      <td>Bronze</td>\n",
       "    </tr>\n",
       "  </tbody>\n",
       "</table>\n",
       "</div>"
      ],
      "text/plain": [
       "     ID                                  Name Sex   Age  Height  Weight  \\\n",
       "0   351            Julius Shareef Abdur-Rahim   M  23.0   202.0   104.0   \n",
       "1  2636           Stephen Todd \"Steve\" Alford   M  19.0   185.0    74.0   \n",
       "2  2863                      Walter Ray Allen   M  25.0   192.0    93.0   \n",
       "3  3874  William Lloyd \"Willie\" Anderson, Jr.   M  21.0   200.0    86.0   \n",
       "4  4505                  Carmelo Kyan Anthony   M  20.0   203.0   109.0   \n",
       "\n",
       "            Team  NOC        Games  Year  Season         City       Sport  \\\n",
       "0  United States  USA  2000 Summer  2000  Summer       Sydney  Basketball   \n",
       "1  United States  USA  1984 Summer  1984  Summer  Los Angeles  Basketball   \n",
       "2  United States  USA  2000 Summer  2000  Summer       Sydney  Basketball   \n",
       "3  United States  USA  1988 Summer  1988  Summer        Seoul  Basketball   \n",
       "4  United States  USA  2004 Summer  2004  Summer       Athina  Basketball   \n",
       "\n",
       "                         Event   Medal  \n",
       "0  Basketball Men's Basketball    Gold  \n",
       "1  Basketball Men's Basketball    Gold  \n",
       "2  Basketball Men's Basketball    Gold  \n",
       "3  Basketball Men's Basketball  Bronze  \n",
       "4  Basketball Men's Basketball  Bronze  "
      ]
     },
     "execution_count": 6,
     "metadata": {},
     "output_type": "execute_result"
    }
   ],
   "source": [
    "basketball.head()"
   ]
  },
  {
   "cell_type": "markdown",
   "metadata": {},
   "source": [
    "## 1. Transform this data set into one that can be turned into a graph where the entities are represented by the Name field and the relationships are represented by whether the players played in the same Olympics together (Games field).\n",
    "\n",
    "Sort descending by the number of pairwise interactions. Which pair of players have competed in the most Olympics together?"
   ]
  },
  {
   "cell_type": "code",
   "execution_count": 7,
   "metadata": {},
   "outputs": [],
   "source": [
    "def df_to_graph(df, entity, edge):\n",
    "    df2 = df.copy()\n",
    "    graph_df = pd.merge(df, df2, how='inner', on=edge)\n",
    "    graph_df = graph_df.groupby([entity + '_x', entity + '_y']).count().reset_index()\n",
    "    graph_df = graph_df[graph_df[entity + '_x'] != graph_df[entity + '_y']]\n",
    "    \n",
    "    if type(edge) == list:\n",
    "        graph_df = graph_df[[entity + '_x', entity + '_y'] + edge]\n",
    "    else:\n",
    "        graph_df = graph_df[[entity + '_x', entity + '_y', edge]]\n",
    "    \n",
    "    return graph_df"
   ]
  },
  {
   "cell_type": "code",
   "execution_count": 60,
   "metadata": {},
   "outputs": [
    {
     "data": {
      "text/html": [
       "<div>\n",
       "<style scoped>\n",
       "    .dataframe tbody tr th:only-of-type {\n",
       "        vertical-align: middle;\n",
       "    }\n",
       "\n",
       "    .dataframe tbody tr th {\n",
       "        vertical-align: top;\n",
       "    }\n",
       "\n",
       "    .dataframe thead th {\n",
       "        text-align: right;\n",
       "    }\n",
       "</style>\n",
       "<table border=\"1\" class=\"dataframe\">\n",
       "  <thead>\n",
       "    <tr style=\"text-align: right;\">\n",
       "      <th></th>\n",
       "      <th>Name_x</th>\n",
       "      <th>Name_y</th>\n",
       "      <th>Games</th>\n",
       "    </tr>\n",
       "  </thead>\n",
       "  <tbody>\n",
       "    <tr>\n",
       "      <th>1557</th>\n",
       "      <td>LeBron Raymone James</td>\n",
       "      <td>Carmelo Kyan Anthony</td>\n",
       "      <td>3</td>\n",
       "    </tr>\n",
       "    <tr>\n",
       "      <th>282</th>\n",
       "      <td>Carmelo Kyan Anthony</td>\n",
       "      <td>LeBron Raymone James</td>\n",
       "      <td>3</td>\n",
       "    </tr>\n",
       "    <tr>\n",
       "      <th>1347</th>\n",
       "      <td>Karl Malone</td>\n",
       "      <td>Charles Wade Barkley</td>\n",
       "      <td>2</td>\n",
       "    </tr>\n",
       "    <tr>\n",
       "      <th>1487</th>\n",
       "      <td>Kobe Bean Bryant</td>\n",
       "      <td>LeBron Raymone James</td>\n",
       "      <td>2</td>\n",
       "    </tr>\n",
       "    <tr>\n",
       "      <th>429</th>\n",
       "      <td>Christopher Paul \"Chris\" Mullin</td>\n",
       "      <td>Michael Jeffrey Jordan</td>\n",
       "      <td>2</td>\n",
       "    </tr>\n",
       "  </tbody>\n",
       "</table>\n",
       "</div>"
      ],
      "text/plain": [
       "                               Name_x                  Name_y  Games\n",
       "1557             LeBron Raymone James    Carmelo Kyan Anthony      3\n",
       "282              Carmelo Kyan Anthony    LeBron Raymone James      3\n",
       "1347                      Karl Malone    Charles Wade Barkley      2\n",
       "1487                 Kobe Bean Bryant    LeBron Raymone James      2\n",
       "429   Christopher Paul \"Chris\" Mullin  Michael Jeffrey Jordan      2"
      ]
     },
     "execution_count": 60,
     "metadata": {},
     "output_type": "execute_result"
    }
   ],
   "source": [
    "df_to_graph(basketball, 'Name', 'Games').sort_values('Games', ascending=False).head()"
   ]
  },
  {
   "cell_type": "code",
   "execution_count": null,
   "metadata": {},
   "outputs": [],
   "source": []
  },
  {
   "cell_type": "markdown",
   "metadata": {},
   "source": [
    "## 2. Use the `from_pandas_edgelist` method to turn the data frame into a graph."
   ]
  },
  {
   "cell_type": "code",
   "execution_count": 95,
   "metadata": {},
   "outputs": [
    {
     "name": "stderr",
     "output_type": "stream",
     "text": [
      "/anaconda3/lib/python3.7/site-packages/networkx/drawing/nx_pylab.py:611: MatplotlibDeprecationWarning:\n",
      "\n",
      "isinstance(..., numbers.Number)\n",
      "\n"
     ]
    },
    {
     "data": {
      "text/plain": [
       "<matplotlib.legend.Legend at 0x1a29530a20>"
      ]
     },
     "execution_count": 95,
     "metadata": {},
     "output_type": "execute_result"
    },
    {
     "data": {
      "image/png": "[encoded data removed]",
      "text/plain": [
       "<Figure size 720x360 with 1 Axes>"
      ]
     },
     "metadata": {},
     "output_type": "display_data"
    }
   ],
   "source": [
    "G = nx.from_pandas_edgelist(basketball, 'Name', 'Games')\n",
    "\n",
    "plt.figure(figsize=(10,5))\n",
    "nx.draw_kamada_kawai(G, node_size=20, node_color='red')\n",
    "\n",
    "\n",
    "plt.legend(['Name','Games'])"
   ]
  },
  {
   "cell_type": "markdown",
   "metadata": {},
   "source": [
    "## 3. Compute and print the following graph statistics for the graph:\n",
    "\n",
    "- Number of nodes\n",
    "- Number of edges\n",
    "- Average degree\n",
    "- Density"
   ]
  },
  {
   "cell_type": "code",
   "execution_count": 27,
   "metadata": {},
   "outputs": [
    {
     "data": {
      "text/plain": [
       "214"
      ]
     },
     "execution_count": 27,
     "metadata": {},
     "output_type": "execute_result"
    }
   ],
   "source": [
    "nx.number_of_nodes(G)"
   ]
  },
  {
   "cell_type": "code",
   "execution_count": 28,
   "metadata": {},
   "outputs": [
    {
     "data": {
      "text/plain": [
       "222"
      ]
     },
     "execution_count": 28,
     "metadata": {},
     "output_type": "execute_result"
    }
   ],
   "source": [
    "nx.number_of_edges(G)"
   ]
  },
  {
   "cell_type": "code",
   "execution_count": 29,
   "metadata": {},
   "outputs": [
    {
     "data": {
      "text/plain": [
       "0.009740687113334211"
      ]
     },
     "execution_count": 29,
     "metadata": {},
     "output_type": "execute_result"
    }
   ],
   "source": [
    "nx.density(G)"
   ]
  },
  {
   "cell_type": "markdown",
   "metadata": {},
   "source": [
    "## 4. Compute betweenness centrality for the graph and print the top 5 nodes with the highest centrality."
   ]
  },
  {
   "cell_type": "code",
   "execution_count": 79,
   "metadata": {},
   "outputs": [
    {
     "data": {
      "text/plain": [
       "{'2000 Summer': 0.11502347417840375,\n",
       " 'Julius Shareef Abdur-Rahim': 0.0,\n",
       " '1984 Summer': 0.03514483125166091,\n",
       " 'Stephen Todd \"Steve\" Alford': 0.0,\n",
       " 'Walter Ray Allen': 0.0,\n",
       " '1988 Summer': 0.03890955797679157,\n",
       " 'William Lloyd \"Willie\" Anderson, Jr.': 0.0,\n",
       " '2004 Summer': 0.03229914075648862,\n",
       " 'Carmelo Kyan Anthony': 0.049834155175638044,\n",
       " '2008 Summer': 0.10272905778486432,\n",
       " '2012 Summer': 0.02832649284947981,\n",
       " '2016 Summer': 0.039364770031791056,\n",
       " '1976 Summer': 0.0029231995748073346,\n",
       " 'Michel Taylor \"Tate\" Armstrong': 0.0,\n",
       " '1960 Summer': 0.022411196740189564,\n",
       " 'Jay Joseph Hoyland Arnette': 0.0,\n",
       " 'Stacey Orlando Augmon': 0.0,\n",
       " 'Vincent Lamont \"Vin\" Baker': 0.0,\n",
       " '1936 Summer': 0.004030472141022234,\n",
       " 'Samuel J. \"Sam\" Balter, Jr.': 0.0,\n",
       " '1972 Summer': 0.0029231995748073346,\n",
       " 'Michael Allen \"Mike\" Bantom': 0.0,\n",
       " '1948 Summer': 0.025910178049428644,\n",
       " 'Clifford Eugene \"Cliff\" Barker': 0.0,\n",
       " '1992 Summer': 0.06073020934833319,\n",
       " 'Charles Wade Barkley': 0.009540260430507576,\n",
       " '1996 Summer': 0.10447485753092982,\n",
       " 'Donald Argee \"Don\" Barksdale': 0.0,\n",
       " 'Harrison Bryce Jordan Barnes': 0.0,\n",
       " '1964 Summer': 0.0029231995748073346,\n",
       " 'Velvet James \"Jim\" Barnes': 0.0,\n",
       " '1968 Summer': 0.0029231995748073346,\n",
       " 'Michael Thomas \"Mike\" Barrett': 0.0,\n",
       " 'Ralph Milton Beard, Jr.': 0.0,\n",
       " 'Lewis William \"Lew\" Beck, Jr.': 0.0,\n",
       " 'Walter Jones \"Walt\" Bellamy, Jr.': 0.0,\n",
       " 'Larry Joe Bird': 0.0,\n",
       " 'Ralph English Bishop': 0.0,\n",
       " '1952 Summer': 0.04079192133935689,\n",
       " 'Ronald Yngve \"Ron\" Bontemps': 0.0,\n",
       " 'Robert Lewis \"Bob\" Boozer': 0.0,\n",
       " 'Carlos Austin Boozer, Jr.': 0.006078926388519798,\n",
       " 'Vincent Joseph \"Vince\" Boryla': 0.0,\n",
       " 'Christopher Wesson \"Chris\" Bosh': 0.0,\n",
       " '1956 Summer': 0.037292940030117815,\n",
       " 'Richard James \"Dick\" Boushka': 0.0,\n",
       " 'William Warren \"Bill\" Bradley': 0.0,\n",
       " 'James Turner \"Jim\" Brewer': 0.0,\n",
       " 'Lawrence Harvey \"Larry\" Brown': 0.0,\n",
       " 'Kobe Bean Bryant': 0.004192379996259876,\n",
       " 'William Quinn Buckner': 0.0,\n",
       " 'Tommy Loren Burleson': 0.0,\n",
       " 'Jimmy Butler III': 0.0,\n",
       " 'Carl Cecil Cain': 0.0,\n",
       " 'Joseph Louis \"Joe\" Caldwell': 0.0,\n",
       " 'Gordon C. Carpenter': 0.0,\n",
       " 'Kenneth Alan \"Kenny\" Carr': 0.0,\n",
       " 'Vincent Lamar \"Vince\" Carter': 0.0,\n",
       " 'Tyson Cleotis Chandler': 0.0,\n",
       " 'John Richard Clawson': 0.0,\n",
       " 'Vernell Eufaye \"Bimbo\" Coles': 0.0,\n",
       " 'Paul Douglas \"Doug\" Collins': 0.0,\n",
       " 'Melvin Grant \"Mel\" Counts': 0.0,\n",
       " 'DeMarcus Amir Cousins': 0.0,\n",
       " 'Adrian Delano Dantley': 0.0,\n",
       " 'Charles Frick \"Chuck\" Darling': 0.0,\n",
       " 'Richard Allen \"Dick\" Davies': 0.0,\n",
       " 'Anthony Marshon Davis, Jr.': 0.0,\n",
       " 'Kenneth Bryan \"Kenny\" Davis': 0.0,\n",
       " 'Walter Paul Davis': 0.0,\n",
       " 'Donald Francis \"Don\" Dee': 0.0,\n",
       " 'DeMar Darnell DeRozan': 0.0,\n",
       " 'Terence Gilbert \"Terry\" Dischinger': 0.0,\n",
       " 'Clyde Austin Drexler': 0.0,\n",
       " 'Timothy Theodore \"Tim\" Duncan': 0.0,\n",
       " 'Kevin Wayne Durant': 0.00231419966338914,\n",
       " 'William Best \"Billy\" Evans': 0.0,\n",
       " 'Patrick Aloysius Ewing': 0.011958543715120904,\n",
       " 'Vernon \"Vern\" Fleming': 0.0,\n",
       " 'James Ricardo \"Jim\" Forbes': 0.0,\n",
       " 'Gilbert \"Gib\" Ford': 0.0,\n",
       " 'Philip Jackson \"Phil\" Ford, Jr.': 0.0,\n",
       " 'Joseph Cephis \"Joe\" Fortenberry': 0.0,\n",
       " 'Calvin Bernard \"Cal\" Fowler': 0.0,\n",
       " 'Marcus Ross \"Marc\" Freiberger': 0.0,\n",
       " 'Kevin Maurice Garnett': 0.0,\n",
       " 'Paul George': 0.0,\n",
       " 'John Haskell \"Tex\" Gibbons': 0.0,\n",
       " 'Victor Wayne Glasgow': 0.0,\n",
       " 'Jeffrey \"Jeff\" Grayer': 0.0,\n",
       " 'Draymond Jamal Green': 0.0,\n",
       " 'Alexander John \"Alex\" Groza': 0.0,\n",
       " 'Ernest \"Ernie\" Grunfeld': 0.0,\n",
       " 'Burdette Eliele \"Burdie\" Haldorson': 0.02125963327132607,\n",
       " 'Anfernee Deon \"Penny\" Hardaway': 0.0,\n",
       " 'Timothy Duane \"Tim\" Hardaway': 0.0,\n",
       " 'James Edward Harden, Jr.': 0.0,\n",
       " 'Hersey R. Hawkins, Jr.': 0.0,\n",
       " 'Spencer Haywood': 0.0,\n",
       " 'Walter Raphael \"Walt\" Hazzard': 0.0,\n",
       " 'Thomas Edward \"Tom\" Henderson': 0.0,\n",
       " 'Grant Henry Hill': 0.0,\n",
       " 'Charles Monroe \"Charlie\" Hoag': 0.0,\n",
       " 'Wilmer Frederick \"Bill\" Hosket': 0.0,\n",
       " 'William Marion \"Bill\" Hougland': 0.029763486579856495,\n",
       " 'Allan Wade Houston': 0.0,\n",
       " 'Dwight David Howard': 0.0,\n",
       " 'Phillip Gregory \"Phil\" Hubbard': 0.0,\n",
       " 'Andre Tyler Iguodala': 0.0,\n",
       " 'Darrall Tucker Imhoff': 0.0,\n",
       " 'Kyrie Andrew Irving': 0.0,\n",
       " 'Allen Ezail Iverson': 0.0,\n",
       " 'Lucious Brown \"Luke\" Jackson, Jr.': 0.0,\n",
       " 'LeBron Raymone James': 0.012097075816182908,\n",
       " 'Robert Eugene \"Bob\" Jeangerard': 0.0,\n",
       " 'Richard Allen Jefferson': 0.0,\n",
       " 'Francis Lee Johnson': 0.0,\n",
       " 'Earvin \"Magic\" Johnson, Jr.': 0.0,\n",
       " 'Robert Clyde \"Bobby\" Jones': 0.0,\n",
       " 'Dwight Elmo Jones': 0.0,\n",
       " 'K. C. Jones': 0.0,\n",
       " 'Wallace Clayton \"Wally\" Jones': 0.0,\n",
       " 'Hyland DeAndre Jordan, Jr.': 0.0,\n",
       " 'Michael Jeffrey Jordan': 0.011958543715120904,\n",
       " 'Kevin Francis Joyce': 0.0,\n",
       " 'John Frederick Keller': 0.0,\n",
       " 'Earl Allen Kelley': 0.0,\n",
       " 'Melvin Dean Kelley': 0.0,\n",
       " 'Robert Earl \"Bob\" Kenney': 0.0,\n",
       " 'Jason Frederick Kidd': 0.09389671361502347,\n",
       " 'James H. \"Jim\" King': 0.0,\n",
       " 'Joseph William \"Joe\" Kleine': 0.0,\n",
       " 'Carl Stanley Knowles': 0.0,\n",
       " 'Jon Francis Koncak': 0.0,\n",
       " 'Mitchell William \"Mitch\" Kupchak': 0.0,\n",
       " 'Robert Albert \"Bob\" Kurland': 0.023562760209053058,\n",
       " 'Christian Donald Laettner': 0.0,\n",
       " 'Thomas Joseph \"Tom\" LaGarde': 0.0,\n",
       " 'Lester Everett \"Les\" Lane': 0.0,\n",
       " 'William Barner \"Bill\" Lienhard': 0.0,\n",
       " 'Kevin Wesley Love': 0.0,\n",
       " 'Clyde Edward Lovellette': 0.0,\n",
       " 'Kyle Lowry': 0.0,\n",
       " 'Frank John Lubin': 0.0,\n",
       " 'Jerry Ray Lucas': 0.0,\n",
       " 'Raymond George \"Ray\" Lumpp': 0.0,\n",
       " 'Daniel Lewis \"Dan\" Majerle': 0.0,\n",
       " 'Karl Malone': 0.009540260430507576,\n",
       " 'Daniel Ricardo \"Danny\" Manning': 0.0,\n",
       " 'Stephon Xavier Marbury': 0.0,\n",
       " 'Shawn Dwayne Marion': 0.0,\n",
       " 'Scott Glenn May': 0.0,\n",
       " 'Frank Reilly McCabe': 0.0,\n",
       " 'John Paul \"Pete\" McCaffrey': 0.0,\n",
       " 'Antonio Keithflen McDyess': 0.0,\n",
       " 'Charles Thomas \"Tom\" McMillen': 0.0,\n",
       " 'Reginald Wayne \"Reggie\" Miller': 0.0,\n",
       " 'Arthur Owen \"Art\" Mollner': 0.0,\n",
       " 'Alonzo Harding Mourning': 0.0,\n",
       " 'Christopher Paul \"Chris\" Mullin': 0.011958543715120904,\n",
       " 'Jeffrey Vincent \"Jeff\" Mullins': 0.0,\n",
       " 'Lamar Joseph Odom': 0.0,\n",
       " 'Chukwuemeka Noubuisi \"Emeka\" Okafor': 0.0,\n",
       " 'Hakeem Abdul Olajuwon': 0.0,\n",
       " \"Shaquille Rashuan O'Neal\": 0.0,\n",
       " 'Christopher Emmanuel \"Chris\" Paul': 0.004192379996259876,\n",
       " 'Gary Dwayne Payton': 0.09442820444680662,\n",
       " 'Samuel Bruce \"Sam\" Perkins': 0.0,\n",
       " 'Donald Arthur \"Don\" Piper': 0.0,\n",
       " 'Scottie Maurice Pippen': 0.009540260430507576,\n",
       " 'Dan Luther Pippin': 0.0,\n",
       " 'Robert C. \"R. C.\" Pitts': 0.0,\n",
       " 'Tayshaun Durell Prince': 0.0,\n",
       " 'Jack Williamson Ragland': 0.0,\n",
       " 'William Edward \"Ed\" Ratleff': 0.0,\n",
       " 'Michael Wesley Redd': 0.0,\n",
       " 'Herman \"J. R.\" Reid, Jr.': 0.0,\n",
       " 'Jesse Banard Renick': 0.0,\n",
       " 'Mitchell James \"Mitch\" Richmond, III': 0.015021997814982136,\n",
       " 'Alvin Cyrrale Robertson': 0.0,\n",
       " 'Oscar Palmer Robertson': 0.0,\n",
       " 'David Maurice Robinson': 0.03411432958337023,\n",
       " 'Robert Lloyd Jackson \"Jack\" Robinson': 0.0,\n",
       " 'Kenneth Herman \"Kenny\" Rollins': 0.0,\n",
       " 'William Fenton \"Bill\" Russell': 0.0,\n",
       " 'Glynn Saulters': 0.0,\n",
       " 'Willard Theodore Schmidt': 0.0,\n",
       " 'Charles Thomas \"Charlie\" Scott': 0.0,\n",
       " 'Steven Bernard \"Steve\" Sheppard': 0.0,\n",
       " 'Jerry Franklin Shipp': 0.0,\n",
       " 'Carl Leslie Shy': 0.0,\n",
       " 'Michael Barnwell \"Mike\" Silliman': 0.0,\n",
       " 'Adrian Howard Smith': 0.0,\n",
       " 'Charles Daniel H. Smith': 0.0,\n",
       " 'Steven Delano \"Steve\" Smith': 0.0,\n",
       " 'Charles Edward Smith, IV': 0.0,\n",
       " 'John Kenneth \"Ken\" Spain': 0.0,\n",
       " 'John Houston Stockton': 0.009540260430507576,\n",
       " \"Amar'e Carsares Stoudemire\": 0.0,\n",
       " 'Duane Alexander Swanson': 0.0,\n",
       " 'Klay Alexander Thompson': 0.0,\n",
       " 'Wayman Lawrence Tisdale': 0.0,\n",
       " 'Ronald Paul \"Ron\" Tomsic': 0.0,\n",
       " 'Jeffrey Stephen \"Jeff\" Turner': 0.0,\n",
       " 'Dwyane Tyrone Wade, Jr.': 0.006078926388519798,\n",
       " 'James Patrick \"Jim\" Walsh': 0.0,\n",
       " 'Jerome Alan \"Jerry\" West': 0.0,\n",
       " 'Russell Westbrook, Jr.': 0.0,\n",
       " 'William John \"Bill\" Wheatley': 0.0,\n",
       " 'Joseph Henry \"Jo-Jo\" White': 0.0,\n",
       " 'Deron Michael Williams': 0.004192379996259876,\n",
       " 'Howard Earl \"Howie\" Williams': 0.0,\n",
       " 'George \"Jiff\" Wilson': 0.0,\n",
       " 'Osie Leon Wood, III': 0.0}"
      ]
     },
     "execution_count": 79,
     "metadata": {},
     "output_type": "execute_result"
    }
   ],
   "source": [
    "nx.betweenness_centrality(G)"
   ]
  },
  {
   "cell_type": "code",
   "execution_count": 81,
   "metadata": {},
   "outputs": [
    {
     "data": {
      "text/plain": [
       "[('2000 Summer', 0.11502347417840375),\n",
       " ('1996 Summer', 0.10447485753092982),\n",
       " ('2008 Summer', 0.10272905778486432),\n",
       " ('Gary Dwayne Payton', 0.09442820444680662),\n",
       " ('Jason Frederick Kidd', 0.09389671361502347)]"
      ]
     },
     "execution_count": 81,
     "metadata": {},
     "output_type": "execute_result"
    }
   ],
   "source": [
    "import operator\n",
    "sorted_a = sorted(nx.betweenness_centrality(G).items(), key=operator.itemgetter(1), reverse=True)[:5]\n",
    "sorted_a"
   ]
  },
  {
   "cell_type": "markdown",
   "metadata": {},
   "source": [
    "## 5. Compute Eigenvector centrality for the graph and print the top 5 nodes with the highest centrality."
   ]
  },
  {
   "cell_type": "code",
   "execution_count": 80,
   "metadata": {},
   "outputs": [
    {
     "data": {
      "text/plain": [
       "{'2000 Summer': 0.05539490752592154,\n",
       " 'Julius Shareef Abdur-Rahim': 0.012336519804779658,\n",
       " '1984 Summer': 0.004369097899938698,\n",
       " 'Stephen Todd \"Steve\" Alford': 0.0009752414376318837,\n",
       " 'Walter Ray Allen': 0.012336519804779658,\n",
       " '1988 Summer': 0.0052502116926399535,\n",
       " 'William Lloyd \"Willie\" Anderson, Jr.': 0.001171348070967546,\n",
       " '2004 Summer': 0.33453139007898997,\n",
       " 'Carmelo Kyan Anthony': 0.3026900091096162,\n",
       " '2008 Summer': 0.43682620621071644,\n",
       " '2012 Summer': 0.39634708980462924,\n",
       " '2016 Summer': 0.1915484842388549,\n",
       " '1976 Summer': 2.848920413444403e-18,\n",
       " 'Michel Taylor \"Tate\" Armstrong': 8.224124838009726e-19,\n",
       " '1960 Summer': 1.878506441312152e-11,\n",
       " 'Jay Joseph Hoyland Arnette': 4.82006480623194e-12,\n",
       " 'Stacey Orlando Augmon': 0.001171348070967546,\n",
       " 'Vincent Lamont \"Vin\" Baker': 0.012336519804779658,\n",
       " '1936 Summer': 3.050220617869319e-13,\n",
       " 'Samuel J. \"Sam\" Balter, Jr.': 8.152057504386361e-14,\n",
       " '1972 Summer': 2.848920413444403e-18,\n",
       " 'Michael Allen \"Mike\" Bantom': 8.224124838009726e-19,\n",
       " '1948 Summer': 1.4485251861339856e-10,\n",
       " 'Clifford Eugene \"Cliff\" Barker': 3.71673852461247e-11,\n",
       " '1992 Summer': 0.011761929568053137,\n",
       " 'Charles Wade Barkley': 0.006051150929940634,\n",
       " '1996 Summer': 0.015368301868574174,\n",
       " 'Donald Argee \"Don\" Barksdale': 3.71673852461247e-11,\n",
       " 'Harrison Bryce Jordan Barnes': 0.04265562055109324,\n",
       " '1964 Summer': 2.848920413444403e-18,\n",
       " 'Velvet James \"Jim\" Barnes': 8.224124838009726e-19,\n",
       " '1968 Summer': 2.848920413444403e-18,\n",
       " 'Michael Thomas \"Mike\" Barrett': 8.224124838009726e-19,\n",
       " 'Ralph Milton Beard, Jr.': 3.71673852461247e-11,\n",
       " 'Lewis William \"Lew\" Beck, Jr.': 3.71673852461247e-11,\n",
       " 'Walter Jones \"Walt\" Bellamy, Jr.': 4.82006480623194e-12,\n",
       " 'Larry Joe Bird': 0.0026242002598367924,\n",
       " 'Ralph English Bishop': 8.152057504386361e-14,\n",
       " '1952 Summer': 1.722233240465975e-10,\n",
       " 'Ronald Yngve \"Ron\" Bontemps': 4.41905269640572e-11,\n",
       " 'Robert Lewis \"Bob\" Boozer': 4.82006480623194e-12,\n",
       " 'Carlos Austin Boozer, Jr.': 0.17177247559258843,\n",
       " 'Vincent Joseph \"Vince\" Boryla': 3.71673852461247e-11,\n",
       " 'Christopher Wesson \"Chris\" Bosh': 0.09727620469189177,\n",
       " '1956 Summer': 5.989967856244487e-11,\n",
       " 'Richard James \"Dick\" Boushka': 1.536960906111541e-11,\n",
       " 'William Warren \"Bill\" Bradley': 8.224124838009726e-19,\n",
       " 'James Turner \"Jim\" Brewer': 8.224124838009726e-19,\n",
       " 'Lawrence Harvey \"Larry\" Brown': 8.224124838009726e-19,\n",
       " 'Kobe Bean Bryant': 0.18553811765782635,\n",
       " 'William Quinn Buckner': 8.224124838009726e-19,\n",
       " 'Tommy Loren Burleson': 8.224124838009726e-19,\n",
       " 'Jimmy Butler III': 0.04265562055109324,\n",
       " 'Carl Cecil Cain': 1.536960906111541e-11,\n",
       " 'Joseph Louis \"Joe\" Caldwell': 8.224124838009726e-19,\n",
       " 'Gordon C. Carpenter': 3.71673852461247e-11,\n",
       " 'Kenneth Alan \"Kenny\" Carr': 8.224124838009726e-19,\n",
       " 'Vincent Lamar \"Vince\" Carter': 0.012336519804779658,\n",
       " 'Tyson Cleotis Chandler': 0.08826191296593457,\n",
       " 'John Richard Clawson': 8.224124838009726e-19,\n",
       " 'Vernell Eufaye \"Bimbo\" Coles': 0.001171348070967546,\n",
       " 'Paul Douglas \"Doug\" Collins': 8.224124838009726e-19,\n",
       " 'Melvin Grant \"Mel\" Counts': 8.224124838009726e-19,\n",
       " 'DeMarcus Amir Cousins': 0.04265562055109324,\n",
       " 'Adrian Delano Dantley': 8.224124838009726e-19,\n",
       " 'Charles Frick \"Chuck\" Darling': 1.536960906111541e-11,\n",
       " 'Richard Allen \"Dick\" Davies': 8.224124838009726e-19,\n",
       " 'Anthony Marshon Davis, Jr.': 0.08826191296593457,\n",
       " 'Kenneth Bryan \"Kenny\" Davis': 8.224124838009726e-19,\n",
       " 'Walter Paul Davis': 8.224124838009726e-19,\n",
       " 'Donald Francis \"Don\" Dee': 8.224124838009726e-19,\n",
       " 'DeMar Darnell DeRozan': 0.04265562055109324,\n",
       " 'Terence Gilbert \"Terry\" Dischinger': 4.82006480623194e-12,\n",
       " 'Clyde Austin Drexler': 0.0026242002598367924,\n",
       " 'Timothy Theodore \"Tim\" Duncan': 0.07449627090069663,\n",
       " 'Kevin Wayne Durant': 0.1309175335170278,\n",
       " 'William Best \"Billy\" Evans': 1.536960906111541e-11,\n",
       " 'Patrick Aloysius Ewing': 0.003599441697468676,\n",
       " 'Vernon \"Vern\" Fleming': 0.0009752414376318837,\n",
       " 'James Ricardo \"Jim\" Forbes': 8.224124838009726e-19,\n",
       " 'Gilbert \"Gib\" Ford': 1.536960906111541e-11,\n",
       " 'Philip Jackson \"Phil\" Ford, Jr.': 8.224124838009726e-19,\n",
       " 'Joseph Cephis \"Joe\" Fortenberry': 8.152057504386361e-14,\n",
       " 'Calvin Bernard \"Cal\" Fowler': 8.224124838009726e-19,\n",
       " 'Marcus Ross \"Marc\" Freiberger': 4.41905269640572e-11,\n",
       " 'Kevin Maurice Garnett': 0.012336519804779658,\n",
       " 'Paul George': 0.04265562055109324,\n",
       " 'John Haskell \"Tex\" Gibbons': 8.152057504386361e-14,\n",
       " 'Victor Wayne Glasgow': 4.41905269640572e-11,\n",
       " 'Jeffrey \"Jeff\" Grayer': 0.001171348070967546,\n",
       " 'Draymond Jamal Green': 0.04265562055109324,\n",
       " 'Alexander John \"Alex\" Groza': 3.71673852461247e-11,\n",
       " 'Ernest \"Ernie\" Grunfeld': 8.224124838009726e-19,\n",
       " 'Burdette Eliele \"Burdie\" Haldorson': 2.0189673867347352e-11,\n",
       " 'Anfernee Deon \"Penny\" Hardaway': 0.003426950670103842,\n",
       " 'Timothy Duane \"Tim\" Hardaway': 0.012336519804779658,\n",
       " 'James Edward Harden, Jr.': 0.08826191296593457,\n",
       " 'Hersey R. Hawkins, Jr.': 0.001171348070967546,\n",
       " 'Spencer Haywood': 8.224124838009726e-19,\n",
       " 'Walter Raphael \"Walt\" Hazzard': 8.224124838009726e-19,\n",
       " 'Thomas Edward \"Tom\" Henderson': 8.224124838009726e-19,\n",
       " 'Grant Henry Hill': 0.003426950670103842,\n",
       " 'Charles Monroe \"Charlie\" Hoag': 4.41905269640572e-11,\n",
       " 'Wilmer Frederick \"Bill\" Hosket': 8.224124838009726e-19,\n",
       " 'William Marion \"Bill\" Hougland': 5.956013602517262e-11,\n",
       " 'Allan Wade Houston': 0.012336519804779658,\n",
       " 'Dwight David Howard': 0.09727620469189177,\n",
       " 'Phillip Gregory \"Phil\" Hubbard': 8.224124838009726e-19,\n",
       " 'Andre Tyler Iguodala': 0.08826191296593457,\n",
       " 'Darrall Tucker Imhoff': 4.82006480623194e-12,\n",
       " 'Kyrie Andrew Irving': 0.04265562055109324,\n",
       " 'Allen Ezail Iverson': 0.07449627090069663,\n",
       " 'Lucious Brown \"Luke\" Jackson, Jr.': 8.224124838009726e-19,\n",
       " 'LeBron Raymone James': 0.26003438855852296,\n",
       " 'Robert Eugene \"Bob\" Jeangerard': 1.536960906111541e-11,\n",
       " 'Richard Allen Jefferson': 0.07449627090069663,\n",
       " 'Francis Lee Johnson': 8.152057504386361e-14,\n",
       " 'Earvin \"Magic\" Johnson, Jr.': 0.0026242002598367924,\n",
       " 'Robert Clyde \"Bobby\" Jones': 8.224124838009726e-19,\n",
       " 'Dwight Elmo Jones': 8.224124838009726e-19,\n",
       " 'K. C. Jones': 1.536960906111541e-11,\n",
       " 'Wallace Clayton \"Wally\" Jones': 3.71673852461247e-11,\n",
       " 'Hyland DeAndre Jordan, Jr.': 0.04265562055109324,\n",
       " 'Michael Jeffrey Jordan': 0.003599441697468676,\n",
       " 'Kevin Francis Joyce': 8.224124838009726e-19,\n",
       " 'John Frederick Keller': 4.41905269640572e-11,\n",
       " 'Earl Allen Kelley': 4.82006480623194e-12,\n",
       " 'Melvin Dean Kelley': 4.41905269640572e-11,\n",
       " 'Robert Earl \"Bob\" Kenney': 4.41905269640572e-11,\n",
       " 'Jason Frederick Kidd': 0.10961272449667143,\n",
       " 'James H. \"Jim\" King': 8.224124838009726e-19,\n",
       " 'Joseph William \"Joe\" Kleine': 0.0009752414376318837,\n",
       " 'Carl Stanley Knowles': 8.152057504386361e-14,\n",
       " 'Jon Francis Koncak': 0.0009752414376318837,\n",
       " 'Mitchell William \"Mitch\" Kupchak': 8.224124838009726e-19,\n",
       " 'Robert Albert \"Bob\" Kurland': 8.135791221018189e-11,\n",
       " 'Christian Donald Laettner': 0.0026242002598367924,\n",
       " 'Thomas Joseph \"Tom\" LaGarde': 8.224124838009726e-19,\n",
       " 'Lester Everett \"Les\" Lane': 4.82006480623194e-12,\n",
       " 'William Barner \"Bill\" Lienhard': 4.41905269640572e-11,\n",
       " 'Kevin Wesley Love': 0.08826191296593457,\n",
       " 'Clyde Edward Lovellette': 4.41905269640572e-11,\n",
       " 'Kyle Lowry': 0.04265562055109324,\n",
       " 'Frank John Lubin': 8.152057504386361e-14,\n",
       " 'Jerry Ray Lucas': 4.82006480623194e-12,\n",
       " 'Raymond George \"Ray\" Lumpp': 3.71673852461247e-11,\n",
       " 'Daniel Lewis \"Dan\" Majerle': 0.001171348070967546,\n",
       " 'Karl Malone': 0.006051150929940634,\n",
       " 'Daniel Ricardo \"Danny\" Manning': 0.001171348070967546,\n",
       " 'Stephon Xavier Marbury': 0.07449627090069663,\n",
       " 'Shawn Dwayne Marion': 0.07449627090069663,\n",
       " 'Scott Glenn May': 8.224124838009726e-19,\n",
       " 'Frank Reilly McCabe': 4.41905269640572e-11,\n",
       " 'John Paul \"Pete\" McCaffrey': 8.224124838009726e-19,\n",
       " 'Antonio Keithflen McDyess': 0.012336519804779658,\n",
       " 'Charles Thomas \"Tom\" McMillen': 8.224124838009726e-19,\n",
       " 'Reginald Wayne \"Reggie\" Miller': 0.003426950670103842,\n",
       " 'Arthur Owen \"Art\" Mollner': 8.152057504386361e-14,\n",
       " 'Alonzo Harding Mourning': 0.012336519804779658,\n",
       " 'Christopher Paul \"Chris\" Mullin': 0.003599441697468676,\n",
       " 'Jeffrey Vincent \"Jeff\" Mullins': 8.224124838009726e-19,\n",
       " 'Lamar Joseph Odom': 0.07449627090069663,\n",
       " 'Chukwuemeka Noubuisi \"Emeka\" Okafor': 0.07449627090069663,\n",
       " 'Hakeem Abdul Olajuwon': 0.003426950670103842,\n",
       " \"Shaquille Rashuan O'Neal\": 0.003426950670103842,\n",
       " 'Christopher Emmanuel \"Chris\" Paul': 0.18553811765782635,\n",
       " 'Gary Dwayne Payton': 0.015763470474883502,\n",
       " 'Samuel Bruce \"Sam\" Perkins': 0.0009752414376318837,\n",
       " 'Donald Arthur \"Don\" Piper': 8.152057504386361e-14,\n",
       " 'Scottie Maurice Pippen': 0.006051150929940634,\n",
       " 'Dan Luther Pippin': 4.41905269640572e-11,\n",
       " 'Robert C. \"R. C.\" Pitts': 3.71673852461247e-11,\n",
       " 'Tayshaun Durell Prince': 0.09727620469189177,\n",
       " 'Jack Williamson Ragland': 8.152057504386361e-14,\n",
       " 'William Edward \"Ed\" Ratleff': 8.224124838009726e-19,\n",
       " 'Michael Wesley Redd': 0.09727620469189177,\n",
       " 'Herman \"J. R.\" Reid, Jr.': 0.001171348070967546,\n",
       " 'Jesse Banard Renick': 3.71673852461247e-11,\n",
       " 'Mitchell James \"Mitch\" Richmond, III': 0.004598298741071388,\n",
       " 'Alvin Cyrrale Robertson': 0.0009752414376318837,\n",
       " 'Oscar Palmer Robertson': 4.82006480623194e-12,\n",
       " 'David Maurice Robinson': 0.007222499000908181,\n",
       " 'Robert Lloyd Jackson \"Jack\" Robinson': 3.71673852461247e-11,\n",
       " 'Kenneth Herman \"Kenny\" Rollins': 3.71673852461247e-11,\n",
       " 'William Fenton \"Bill\" Russell': 1.536960906111541e-11,\n",
       " 'Glynn Saulters': 8.224124838009726e-19,\n",
       " 'Willard Theodore Schmidt': 8.152057504386361e-14,\n",
       " 'Charles Thomas \"Charlie\" Scott': 8.224124838009726e-19,\n",
       " 'Steven Bernard \"Steve\" Sheppard': 8.224124838009726e-19,\n",
       " 'Jerry Franklin Shipp': 8.224124838009726e-19,\n",
       " 'Carl Leslie Shy': 8.152057504386361e-14,\n",
       " 'Michael Barnwell \"Mike\" Silliman': 8.224124838009726e-19,\n",
       " 'Adrian Howard Smith': 4.82006480623194e-12,\n",
       " 'Charles Daniel H. Smith': 0.001171348070967546,\n",
       " 'Steven Delano \"Steve\" Smith': 0.012336519804779658,\n",
       " 'Charles Edward Smith, IV': 0.001171348070967546,\n",
       " 'John Kenneth \"Ken\" Spain': 8.224124838009726e-19,\n",
       " 'John Houston Stockton': 0.006051150929940634,\n",
       " \"Amar'e Carsares Stoudemire\": 0.07449627090069663,\n",
       " 'Duane Alexander Swanson': 8.152057504386361e-14,\n",
       " 'Klay Alexander Thompson': 0.04265562055109324,\n",
       " 'Wayman Lawrence Tisdale': 0.0009752414376318837,\n",
       " 'Ronald Paul \"Ron\" Tomsic': 1.536960906111541e-11,\n",
       " 'Jeffrey Stephen \"Jeff\" Turner': 0.0009752414376318837,\n",
       " 'Dwyane Tyrone Wade, Jr.': 0.17177247559258843,\n",
       " 'James Patrick \"Jim\" Walsh': 1.536960906111541e-11,\n",
       " 'Jerome Alan \"Jerry\" West': 4.82006480623194e-12,\n",
       " 'Russell Westbrook, Jr.': 0.08826191296593457,\n",
       " 'William John \"Bill\" Wheatley': 8.152057504386361e-14,\n",
       " 'Joseph Henry \"Jo-Jo\" White': 8.224124838009726e-19,\n",
       " 'Deron Michael Williams': 0.18553811765782635,\n",
       " 'Howard Earl \"Howie\" Williams': 4.41905269640572e-11,\n",
       " 'George \"Jiff\" Wilson': 8.224124838009726e-19,\n",
       " 'Osie Leon Wood, III': 0.0009752414376318837}"
      ]
     },
     "execution_count": 80,
     "metadata": {},
     "output_type": "execute_result"
    }
   ],
   "source": [
    "nx.eigenvector_centrality(G, max_iter=10000)"
   ]
  },
  {
   "cell_type": "code",
   "execution_count": 83,
   "metadata": {},
   "outputs": [
    {
     "data": {
      "text/plain": [
       "[('2008 Summer', 0.43682620621071644),\n",
       " ('2012 Summer', 0.39634708980462924),\n",
       " ('2004 Summer', 0.33453139007898997),\n",
       " ('Carmelo Kyan Anthony', 0.3026900091096162),\n",
       " ('LeBron Raymone James', 0.26003438855852296)]"
      ]
     },
     "execution_count": 83,
     "metadata": {},
     "output_type": "execute_result"
    }
   ],
   "source": [
    "sorted_b = sorted(nx.eigenvector_centrality(G, max_iter=10000).items(), key=operator.itemgetter(1), reverse=True)[:5]\n",
    "sorted_b"
   ]
  },
  {
   "cell_type": "markdown",
   "metadata": {},
   "source": [
    "## 6. Compute degree centrality for the graph and print the top 5 nodes with the highest centrality."
   ]
  },
  {
   "cell_type": "code",
   "execution_count": 84,
   "metadata": {},
   "outputs": [
    {
     "data": {
      "text/plain": [
       "{'2000 Summer': 0.056338028169014086,\n",
       " 'Julius Shareef Abdur-Rahim': 0.004694835680751174,\n",
       " '1984 Summer': 0.056338028169014086,\n",
       " 'Stephen Todd \"Steve\" Alford': 0.004694835680751174,\n",
       " 'Walter Ray Allen': 0.004694835680751174,\n",
       " '1988 Summer': 0.056338028169014086,\n",
       " 'William Lloyd \"Willie\" Anderson, Jr.': 0.004694835680751174,\n",
       " '2004 Summer': 0.056338028169014086,\n",
       " 'Carmelo Kyan Anthony': 0.018779342723004695,\n",
       " '2008 Summer': 0.056338028169014086,\n",
       " '2012 Summer': 0.056338028169014086,\n",
       " '2016 Summer': 0.056338028169014086,\n",
       " '1976 Summer': 0.056338028169014086,\n",
       " 'Michel Taylor \"Tate\" Armstrong': 0.004694835680751174,\n",
       " '1960 Summer': 0.056338028169014086,\n",
       " 'Jay Joseph Hoyland Arnette': 0.004694835680751174,\n",
       " 'Stacey Orlando Augmon': 0.004694835680751174,\n",
       " 'Vincent Lamont \"Vin\" Baker': 0.004694835680751174,\n",
       " '1936 Summer': 0.06572769953051644,\n",
       " 'Samuel J. \"Sam\" Balter, Jr.': 0.004694835680751174,\n",
       " '1972 Summer': 0.056338028169014086,\n",
       " 'Michael Allen \"Mike\" Bantom': 0.004694835680751174,\n",
       " '1948 Summer': 0.06572769953051644,\n",
       " 'Clifford Eugene \"Cliff\" Barker': 0.004694835680751174,\n",
       " '1992 Summer': 0.056338028169014086,\n",
       " 'Charles Wade Barkley': 0.009389671361502348,\n",
       " '1996 Summer': 0.056338028169014086,\n",
       " 'Donald Argee \"Don\" Barksdale': 0.004694835680751174,\n",
       " 'Harrison Bryce Jordan Barnes': 0.004694835680751174,\n",
       " '1964 Summer': 0.056338028169014086,\n",
       " 'Velvet James \"Jim\" Barnes': 0.004694835680751174,\n",
       " '1968 Summer': 0.056338028169014086,\n",
       " 'Michael Thomas \"Mike\" Barrett': 0.004694835680751174,\n",
       " 'Ralph Milton Beard, Jr.': 0.004694835680751174,\n",
       " 'Lewis William \"Lew\" Beck, Jr.': 0.004694835680751174,\n",
       " 'Walter Jones \"Walt\" Bellamy, Jr.': 0.004694835680751174,\n",
       " 'Larry Joe Bird': 0.004694835680751174,\n",
       " 'Ralph English Bishop': 0.004694835680751174,\n",
       " '1952 Summer': 0.06572769953051644,\n",
       " 'Ronald Yngve \"Ron\" Bontemps': 0.004694835680751174,\n",
       " 'Robert Lewis \"Bob\" Boozer': 0.004694835680751174,\n",
       " 'Carlos Austin Boozer, Jr.': 0.009389671361502348,\n",
       " 'Vincent Joseph \"Vince\" Boryla': 0.004694835680751174,\n",
       " 'Christopher Wesson \"Chris\" Bosh': 0.004694835680751174,\n",
       " '1956 Summer': 0.056338028169014086,\n",
       " 'Richard James \"Dick\" Boushka': 0.004694835680751174,\n",
       " 'William Warren \"Bill\" Bradley': 0.004694835680751174,\n",
       " 'James Turner \"Jim\" Brewer': 0.004694835680751174,\n",
       " 'Lawrence Harvey \"Larry\" Brown': 0.004694835680751174,\n",
       " 'Kobe Bean Bryant': 0.009389671361502348,\n",
       " 'William Quinn Buckner': 0.004694835680751174,\n",
       " 'Tommy Loren Burleson': 0.004694835680751174,\n",
       " 'Jimmy Butler III': 0.004694835680751174,\n",
       " 'Carl Cecil Cain': 0.004694835680751174,\n",
       " 'Joseph Louis \"Joe\" Caldwell': 0.004694835680751174,\n",
       " 'Gordon C. Carpenter': 0.004694835680751174,\n",
       " 'Kenneth Alan \"Kenny\" Carr': 0.004694835680751174,\n",
       " 'Vincent Lamar \"Vince\" Carter': 0.004694835680751174,\n",
       " 'Tyson Cleotis Chandler': 0.004694835680751174,\n",
       " 'John Richard Clawson': 0.004694835680751174,\n",
       " 'Vernell Eufaye \"Bimbo\" Coles': 0.004694835680751174,\n",
       " 'Paul Douglas \"Doug\" Collins': 0.004694835680751174,\n",
       " 'Melvin Grant \"Mel\" Counts': 0.004694835680751174,\n",
       " 'DeMarcus Amir Cousins': 0.004694835680751174,\n",
       " 'Adrian Delano Dantley': 0.004694835680751174,\n",
       " 'Charles Frick \"Chuck\" Darling': 0.004694835680751174,\n",
       " 'Richard Allen \"Dick\" Davies': 0.004694835680751174,\n",
       " 'Anthony Marshon Davis, Jr.': 0.004694835680751174,\n",
       " 'Kenneth Bryan \"Kenny\" Davis': 0.004694835680751174,\n",
       " 'Walter Paul Davis': 0.004694835680751174,\n",
       " 'Donald Francis \"Don\" Dee': 0.004694835680751174,\n",
       " 'DeMar Darnell DeRozan': 0.004694835680751174,\n",
       " 'Terence Gilbert \"Terry\" Dischinger': 0.004694835680751174,\n",
       " 'Clyde Austin Drexler': 0.004694835680751174,\n",
       " 'Timothy Theodore \"Tim\" Duncan': 0.004694835680751174,\n",
       " 'Kevin Wayne Durant': 0.009389671361502348,\n",
       " 'William Best \"Billy\" Evans': 0.004694835680751174,\n",
       " 'Patrick Aloysius Ewing': 0.009389671361502348,\n",
       " 'Vernon \"Vern\" Fleming': 0.004694835680751174,\n",
       " 'James Ricardo \"Jim\" Forbes': 0.004694835680751174,\n",
       " 'Gilbert \"Gib\" Ford': 0.004694835680751174,\n",
       " 'Philip Jackson \"Phil\" Ford, Jr.': 0.004694835680751174,\n",
       " 'Joseph Cephis \"Joe\" Fortenberry': 0.004694835680751174,\n",
       " 'Calvin Bernard \"Cal\" Fowler': 0.004694835680751174,\n",
       " 'Marcus Ross \"Marc\" Freiberger': 0.004694835680751174,\n",
       " 'Kevin Maurice Garnett': 0.004694835680751174,\n",
       " 'Paul George': 0.004694835680751174,\n",
       " 'John Haskell \"Tex\" Gibbons': 0.004694835680751174,\n",
       " 'Victor Wayne Glasgow': 0.004694835680751174,\n",
       " 'Jeffrey \"Jeff\" Grayer': 0.004694835680751174,\n",
       " 'Draymond Jamal Green': 0.004694835680751174,\n",
       " 'Alexander John \"Alex\" Groza': 0.004694835680751174,\n",
       " 'Ernest \"Ernie\" Grunfeld': 0.004694835680751174,\n",
       " 'Burdette Eliele \"Burdie\" Haldorson': 0.009389671361502348,\n",
       " 'Anfernee Deon \"Penny\" Hardaway': 0.004694835680751174,\n",
       " 'Timothy Duane \"Tim\" Hardaway': 0.004694835680751174,\n",
       " 'James Edward Harden, Jr.': 0.004694835680751174,\n",
       " 'Hersey R. Hawkins, Jr.': 0.004694835680751174,\n",
       " 'Spencer Haywood': 0.004694835680751174,\n",
       " 'Walter Raphael \"Walt\" Hazzard': 0.004694835680751174,\n",
       " 'Thomas Edward \"Tom\" Henderson': 0.004694835680751174,\n",
       " 'Grant Henry Hill': 0.004694835680751174,\n",
       " 'Charles Monroe \"Charlie\" Hoag': 0.004694835680751174,\n",
       " 'Wilmer Frederick \"Bill\" Hosket': 0.004694835680751174,\n",
       " 'William Marion \"Bill\" Hougland': 0.009389671361502348,\n",
       " 'Allan Wade Houston': 0.004694835680751174,\n",
       " 'Dwight David Howard': 0.004694835680751174,\n",
       " 'Phillip Gregory \"Phil\" Hubbard': 0.004694835680751174,\n",
       " 'Andre Tyler Iguodala': 0.004694835680751174,\n",
       " 'Darrall Tucker Imhoff': 0.004694835680751174,\n",
       " 'Kyrie Andrew Irving': 0.004694835680751174,\n",
       " 'Allen Ezail Iverson': 0.004694835680751174,\n",
       " 'Lucious Brown \"Luke\" Jackson, Jr.': 0.004694835680751174,\n",
       " 'LeBron Raymone James': 0.014084507042253521,\n",
       " 'Robert Eugene \"Bob\" Jeangerard': 0.004694835680751174,\n",
       " 'Richard Allen Jefferson': 0.004694835680751174,\n",
       " 'Francis Lee Johnson': 0.004694835680751174,\n",
       " 'Earvin \"Magic\" Johnson, Jr.': 0.004694835680751174,\n",
       " 'Robert Clyde \"Bobby\" Jones': 0.004694835680751174,\n",
       " 'Dwight Elmo Jones': 0.004694835680751174,\n",
       " 'K. C. Jones': 0.004694835680751174,\n",
       " 'Wallace Clayton \"Wally\" Jones': 0.004694835680751174,\n",
       " 'Hyland DeAndre Jordan, Jr.': 0.004694835680751174,\n",
       " 'Michael Jeffrey Jordan': 0.009389671361502348,\n",
       " 'Kevin Francis Joyce': 0.004694835680751174,\n",
       " 'John Frederick Keller': 0.004694835680751174,\n",
       " 'Earl Allen Kelley': 0.004694835680751174,\n",
       " 'Melvin Dean Kelley': 0.004694835680751174,\n",
       " 'Robert Earl \"Bob\" Kenney': 0.004694835680751174,\n",
       " 'Jason Frederick Kidd': 0.009389671361502348,\n",
       " 'James H. \"Jim\" King': 0.004694835680751174,\n",
       " 'Joseph William \"Joe\" Kleine': 0.004694835680751174,\n",
       " 'Carl Stanley Knowles': 0.004694835680751174,\n",
       " 'Jon Francis Koncak': 0.004694835680751174,\n",
       " 'Mitchell William \"Mitch\" Kupchak': 0.004694835680751174,\n",
       " 'Robert Albert \"Bob\" Kurland': 0.009389671361502348,\n",
       " 'Christian Donald Laettner': 0.004694835680751174,\n",
       " 'Thomas Joseph \"Tom\" LaGarde': 0.004694835680751174,\n",
       " 'Lester Everett \"Les\" Lane': 0.004694835680751174,\n",
       " 'William Barner \"Bill\" Lienhard': 0.004694835680751174,\n",
       " 'Kevin Wesley Love': 0.004694835680751174,\n",
       " 'Clyde Edward Lovellette': 0.004694835680751174,\n",
       " 'Kyle Lowry': 0.004694835680751174,\n",
       " 'Frank John Lubin': 0.004694835680751174,\n",
       " 'Jerry Ray Lucas': 0.004694835680751174,\n",
       " 'Raymond George \"Ray\" Lumpp': 0.004694835680751174,\n",
       " 'Daniel Lewis \"Dan\" Majerle': 0.004694835680751174,\n",
       " 'Karl Malone': 0.009389671361502348,\n",
       " 'Daniel Ricardo \"Danny\" Manning': 0.004694835680751174,\n",
       " 'Stephon Xavier Marbury': 0.004694835680751174,\n",
       " 'Shawn Dwayne Marion': 0.004694835680751174,\n",
       " 'Scott Glenn May': 0.004694835680751174,\n",
       " 'Frank Reilly McCabe': 0.004694835680751174,\n",
       " 'John Paul \"Pete\" McCaffrey': 0.004694835680751174,\n",
       " 'Antonio Keithflen McDyess': 0.004694835680751174,\n",
       " 'Charles Thomas \"Tom\" McMillen': 0.004694835680751174,\n",
       " 'Reginald Wayne \"Reggie\" Miller': 0.004694835680751174,\n",
       " 'Arthur Owen \"Art\" Mollner': 0.004694835680751174,\n",
       " 'Alonzo Harding Mourning': 0.004694835680751174,\n",
       " 'Christopher Paul \"Chris\" Mullin': 0.009389671361502348,\n",
       " 'Jeffrey Vincent \"Jeff\" Mullins': 0.004694835680751174,\n",
       " 'Lamar Joseph Odom': 0.004694835680751174,\n",
       " 'Chukwuemeka Noubuisi \"Emeka\" Okafor': 0.004694835680751174,\n",
       " 'Hakeem Abdul Olajuwon': 0.004694835680751174,\n",
       " \"Shaquille Rashuan O'Neal\": 0.004694835680751174,\n",
       " 'Christopher Emmanuel \"Chris\" Paul': 0.009389671361502348,\n",
       " 'Gary Dwayne Payton': 0.009389671361502348,\n",
       " 'Samuel Bruce \"Sam\" Perkins': 0.004694835680751174,\n",
       " 'Donald Arthur \"Don\" Piper': 0.004694835680751174,\n",
       " 'Scottie Maurice Pippen': 0.009389671361502348,\n",
       " 'Dan Luther Pippin': 0.004694835680751174,\n",
       " 'Robert C. \"R. C.\" Pitts': 0.004694835680751174,\n",
       " 'Tayshaun Durell Prince': 0.004694835680751174,\n",
       " 'Jack Williamson Ragland': 0.004694835680751174,\n",
       " 'William Edward \"Ed\" Ratleff': 0.004694835680751174,\n",
       " 'Michael Wesley Redd': 0.004694835680751174,\n",
       " 'Herman \"J. R.\" Reid, Jr.': 0.004694835680751174,\n",
       " 'Jesse Banard Renick': 0.004694835680751174,\n",
       " 'Mitchell James \"Mitch\" Richmond, III': 0.009389671361502348,\n",
       " 'Alvin Cyrrale Robertson': 0.004694835680751174,\n",
       " 'Oscar Palmer Robertson': 0.004694835680751174,\n",
       " 'David Maurice Robinson': 0.014084507042253521,\n",
       " 'Robert Lloyd Jackson \"Jack\" Robinson': 0.004694835680751174,\n",
       " 'Kenneth Herman \"Kenny\" Rollins': 0.004694835680751174,\n",
       " 'William Fenton \"Bill\" Russell': 0.004694835680751174,\n",
       " 'Glynn Saulters': 0.004694835680751174,\n",
       " 'Willard Theodore Schmidt': 0.004694835680751174,\n",
       " 'Charles Thomas \"Charlie\" Scott': 0.004694835680751174,\n",
       " 'Steven Bernard \"Steve\" Sheppard': 0.004694835680751174,\n",
       " 'Jerry Franklin Shipp': 0.004694835680751174,\n",
       " 'Carl Leslie Shy': 0.004694835680751174,\n",
       " 'Michael Barnwell \"Mike\" Silliman': 0.004694835680751174,\n",
       " 'Adrian Howard Smith': 0.004694835680751174,\n",
       " 'Charles Daniel H. Smith': 0.004694835680751174,\n",
       " 'Steven Delano \"Steve\" Smith': 0.004694835680751174,\n",
       " 'Charles Edward Smith, IV': 0.004694835680751174,\n",
       " 'John Kenneth \"Ken\" Spain': 0.004694835680751174,\n",
       " 'John Houston Stockton': 0.009389671361502348,\n",
       " \"Amar'e Carsares Stoudemire\": 0.004694835680751174,\n",
       " 'Duane Alexander Swanson': 0.004694835680751174,\n",
       " 'Klay Alexander Thompson': 0.004694835680751174,\n",
       " 'Wayman Lawrence Tisdale': 0.004694835680751174,\n",
       " 'Ronald Paul \"Ron\" Tomsic': 0.004694835680751174,\n",
       " 'Jeffrey Stephen \"Jeff\" Turner': 0.004694835680751174,\n",
       " 'Dwyane Tyrone Wade, Jr.': 0.009389671361502348,\n",
       " 'James Patrick \"Jim\" Walsh': 0.004694835680751174,\n",
       " 'Jerome Alan \"Jerry\" West': 0.004694835680751174,\n",
       " 'Russell Westbrook, Jr.': 0.004694835680751174,\n",
       " 'William John \"Bill\" Wheatley': 0.004694835680751174,\n",
       " 'Joseph Henry \"Jo-Jo\" White': 0.004694835680751174,\n",
       " 'Deron Michael Williams': 0.009389671361502348,\n",
       " 'Howard Earl \"Howie\" Williams': 0.004694835680751174,\n",
       " 'George \"Jiff\" Wilson': 0.004694835680751174,\n",
       " 'Osie Leon Wood, III': 0.004694835680751174}"
      ]
     },
     "execution_count": 84,
     "metadata": {},
     "output_type": "execute_result"
    }
   ],
   "source": [
    "nx.degree_centrality(G)"
   ]
  },
  {
   "cell_type": "code",
   "execution_count": 85,
   "metadata": {},
   "outputs": [
    {
     "data": {
      "text/plain": [
       "[('1936 Summer', 0.06572769953051644),\n",
       " ('1948 Summer', 0.06572769953051644),\n",
       " ('1952 Summer', 0.06572769953051644),\n",
       " ('2000 Summer', 0.056338028169014086),\n",
       " ('1984 Summer', 0.056338028169014086)]"
      ]
     },
     "execution_count": 85,
     "metadata": {},
     "output_type": "execute_result"
    }
   ],
   "source": [
    "sorted_c = sorted(nx.degree_centrality(G).items(), key=operator.itemgetter(1), reverse=True)[:5]\n",
    "sorted_c"
   ]
  },
  {
   "cell_type": "markdown",
   "metadata": {},
   "source": [
    "## 7. Generate a network visualization for the entire graph using a Kamada-Kawai force-directed layout."
   ]
  },
  {
   "cell_type": "code",
   "execution_count": 69,
   "metadata": {},
   "outputs": [
    {
     "name": "stderr",
     "output_type": "stream",
     "text": [
      "/anaconda3/lib/python3.7/site-packages/networkx/drawing/nx_pylab.py:611: MatplotlibDeprecationWarning:\n",
      "\n",
      "isinstance(..., numbers.Number)\n",
      "\n"
     ]
    },
    {
     "data": {
      "image/png": "[encoded data removed]",
      "text/plain": [
       "<Figure size 432x288 with 1 Axes>"
      ]
     },
     "metadata": {},
     "output_type": "display_data"
    }
   ],
   "source": [
    "nx.draw_kamada_kawai(G, node_size=20, node_color='blue')"
   ]
  },
  {
   "cell_type": "markdown",
   "metadata": {},
   "source": [
    "## 8. Create and visualize an ego graph for the player with the highest betweenness centrality."
   ]
  },
  {
   "cell_type": "code",
   "execution_count": null,
   "metadata": {},
   "outputs": [],
   "source": [
    "from operator import itemgetter"
   ]
  },
  {
   "cell_type": "code",
   "execution_count": 93,
   "metadata": {},
   "outputs": [],
   "source": [
    "largest_hub = 'Carmelo Kyan Anthony'\n",
    "degree = 0.3026900091096162"
   ]
  },
  {
   "cell_type": "code",
   "execution_count": 96,
   "metadata": {},
   "outputs": [
    {
     "name": "stderr",
     "output_type": "stream",
     "text": [
      "/anaconda3/lib/python3.7/site-packages/networkx/drawing/nx_pylab.py:611: MatplotlibDeprecationWarning:\n",
      "\n",
      "isinstance(..., numbers.Number)\n",
      "\n"
     ]
    },
    {
     "data": {
      "image/png": "[encoded data removed]",
      "text/plain": [
       "<Figure size 432x288 with 1 Axes>"
      ]
     },
     "metadata": {},
     "output_type": "display_data"
    }
   ],
   "source": [
    "\n",
    "# Create ego graph of main hub\n",
    "hub_ego = nx.ego_graph(G, largest_hub)\n",
    "\n",
    "pos = nx.spring_layout(hub_ego)\n",
    "nx.draw(hub_ego, pos, node_color='b', node_size=50, with_labels=False)\n",
    "# Draw ego as large and red\n",
    "nx.draw_networkx_nodes(hub_ego, pos, nodelist=[largest_hub], node_size=300, node_color='r')\n",
    "plt.show()"
   ]
  },
  {
   "cell_type": "markdown",
   "metadata": {},
   "source": [
    "## 9. Identify the communities within the entire graph and produce another visualization of it with the nodes color-coded by the community they belong to."
   ]
  },
  {
   "cell_type": "code",
   "execution_count": null,
   "metadata": {},
   "outputs": [],
   "source": []
  },
  {
   "cell_type": "markdown",
   "metadata": {},
   "source": [
    "## Bonus: Hierarchical Graphs\n",
    "\n",
    "Thus far, we have analyzed graphs where the nodes represented individual players and the edges represented Olympic games that they have competed in together. We can analyze the data at a higher level if we wanted to, strippping out the players as entities and analyzing the data at the Games level. To do this, we would need to reconstruct the graph so that the *Games* field represents the entities and then use the player names as the edge criteria so that there would be an edge between two Olympic games if an player played in both of them. You already have the tools in your toolbox to be able to do this, so give it a try. "
   ]
  },
  {
   "cell_type": "markdown",
   "metadata": {},
   "source": [
    "### Create a graph with Games as the entities and then print out the graph statistics."
   ]
  },
  {
   "cell_type": "code",
   "execution_count": null,
   "metadata": {},
   "outputs": [],
   "source": []
  },
  {
   "cell_type": "markdown",
   "metadata": {},
   "source": [
    "### Generate a network visualization of this graph using the layout of your choice."
   ]
  },
  {
   "cell_type": "code",
   "execution_count": null,
   "metadata": {},
   "outputs": [],
   "source": []
  }
 ],
 "metadata": {
  "kernelspec": {
   "display_name": "Python 3",
   "language": "python",
   "name": "python3"
  },
  "language_info": {
   "codemirror_mode": {
    "name": "ipython",
    "version": 3
   },
   "file_extension": ".py",
   "mimetype": "text/x-python",
   "name": "python",
   "nbconvert_exporter": "python",
   "pygments_lexer": "ipython3",
   "version": "3.7.3"
  }
 },
 "nbformat": 4,
 "nbformat_minor": 2
}
