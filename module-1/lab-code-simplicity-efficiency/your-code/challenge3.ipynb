{
 "cells": [
  {
   "cell_type": "code",
   "execution_count": null,
   "metadata": {},
   "outputs": [],
   "source": []
  },
  {
   "cell_type": "code",
   "execution_count": 26,
   "metadata": {},
   "outputs": [
    {
     "name": "stdout",
     "output_type": "stream",
     "text": [
      "What is the maximal length of the triangle side? Enter a number: 15\n",
      "The longest side possible is 13\n"
     ]
    }
   ],
   "source": [
    "\n",
    "def find_longuest(length):\n",
    "    posibilities = []\n",
    "    for x in range(5, length):\n",
    "        for y in range(4, length):\n",
    "            for z in range(3, length):\n",
    "                if (x*x==y*y+z*z):\n",
    "                    posibilities.append([x, y, z])\n",
    "    #print(posibilities)\n",
    "    m = 0\n",
    "    for posibility in posibilities:\n",
    "        if m < max(posibility):\n",
    "            m = max(posibility)\n",
    "    return m\n",
    "\n",
    "\n",
    "def find_longuest2(length):\n",
    "    m=0\n",
    "    for x in range(5, length):\n",
    "        for y in range(4, length):\n",
    "            for z in range(3, length):\n",
    "                if (x*x==y*y+z*z):\n",
    "                    m = max([x, y, z])\n",
    "    return m\n",
    "\n",
    "\n",
    "\n",
    "max_length = input(\"What is the maximal length of the triangle side? Enter a number: \")\n",
    "\n",
    "print(\"The longest side possible is \" + str(find_longuest2(int(max_length))))"
   ]
  },
  {
   "cell_type": "code",
   "execution_count": 22,
   "metadata": {},
   "outputs": [
    {
     "name": "stdout",
     "output_type": "stream",
     "text": [
      "[]\n"
     ]
    },
    {
     "data": {
      "text/plain": [
       "0"
      ]
     },
     "execution_count": 22,
     "metadata": {},
     "output_type": "execute_result"
    }
   ],
   "source": [
    "find_longuest(5)"
   ]
  },
  {
   "cell_type": "code",
   "execution_count": null,
   "metadata": {},
   "outputs": [],
   "source": []
  }
 ],
 "metadata": {
  "kernelspec": {
   "display_name": "Python 3",
   "language": "python",
   "name": "python3"
  },
  "language_info": {
   "codemirror_mode": {
    "name": "ipython",
    "version": 3
   },
   "file_extension": ".py",
   "mimetype": "text/x-python",
   "name": "python",
   "nbconvert_exporter": "python",
   "pygments_lexer": "ipython3",
   "version": "3.7.3"
  }
 },
 "nbformat": 4,
 "nbformat_minor": 2
}
