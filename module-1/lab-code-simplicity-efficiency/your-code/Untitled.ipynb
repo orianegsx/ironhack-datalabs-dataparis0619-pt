{
 "cells": [
  {
   "cell_type": "code",
   "execution_count": 136,
   "metadata": {},
   "outputs": [],
   "source": [
    "\n",
    "def initiateCaluclator():\n",
    "    print('Welcome to this calculator!')\n",
    "    print('It can add and subtract whole numbers from zero to five')\n",
    "    firstNumber = input('Please choose your first number (zero to five): ')\n",
    "    operation = input('What do you want to do? plus or minus: ')\n",
    "    secondNumber = input('Please choose your second number (zero to five): ')\n",
    "    return(firstNumber,operation,secondNumber)\n",
    "\n",
    "\n",
    "listNumber = ['zero','one', 'two','three','four','five']\n",
    "\n",
    "def transformToNumber(string): #Faire un dict\n",
    "    if string == 'zero':\n",
    "        return(int(0))\n",
    "    if string == 'one':\n",
    "        return(int(1))\n",
    "    if string == 'two':\n",
    "        return(int(2))\n",
    "    if string == 'three':\n",
    "        return(int(3))\n",
    "    if string == 'four':\n",
    "        return(int(4))\n",
    "    if string == 'five':\n",
    "        return(int(5))\n",
    "\n",
    "    \n",
    "def transformToString(number): #Faire un dict\n",
    "    positivNumber = abs(number)\n",
    "    if positivNumber == 0:\n",
    "        return('zero')\n",
    "    if positivNumber == 1:\n",
    "        return('one')\n",
    "    if positivNumber == 2:\n",
    "        return('two')\n",
    "    if positivNumber == 3:\n",
    "        return('three')\n",
    "    if positivNumber == 4:\n",
    "        return('four')\n",
    "    if positivNumber == 5:\n",
    "        return('five')\n",
    "    if positivNumber == 6:\n",
    "        return('six')\n",
    "    if positivNumber == 7:\n",
    "        return('one')\n",
    "    if positivNumber == 8:\n",
    "        return('eight')\n",
    "    if positivNumber == 9:\n",
    "        return('nine')\n",
    "    if positivNumber == 10:\n",
    "        return('ten')\n",
    "\n",
    "transformToString2 = {0:'zero'} #other way to do\n",
    "    \n",
    "    \n",
    "def addition(a, b):\n",
    "    result = transformToNumber(a) + transformToNumber(b)   \n",
    "    print(a + ' plus ' + b + ' equals ' + transformToString(result))\n",
    "\n",
    "def subsctraction(a, b):\n",
    "    result = transformToNumber(a) - transformToNumber(b)\n",
    "    if result>0:\n",
    "        print(a + ' minus ' + b + ' equals ' + transformToString(abs(result)))\n",
    "    else:\n",
    "        print(a + ' minus ' + b + ' equals negative ' + transformToString(abs(result)))\n",
    "\n",
    "\n",
    "def calculator():\n",
    "    (firstNumber,operation,secondNumber) = initiateCaluclator()\n",
    "    if firstNumber not in listNumber or secondNumber not in listNumber or operation not in ['plus','minus']:\n",
    "        print(\"I am not able to answer this question. Check your input.\")\n",
    "    elif operation == 'plus':\n",
    "        addition(firstNumber, secondNumber)\n",
    "    elif operation == 'minus':\n",
    "        subsctraction(firstNumber, secondNumber)\n",
    "        print(\"Thanks for using this calculator, goodbye :)\")"
   ]
  },
  {
   "cell_type": "code",
   "execution_count": 137,
   "metadata": {},
   "outputs": [
    {
     "name": "stdout",
     "output_type": "stream",
     "text": [
      "Welcome to this calculator!\n",
      "It can add and subtract whole numbers from zero to five\n",
      "Please choose your first number (zero to five): one\n",
      "What do you want to do? plus or minus: minus\n",
      "Please choose your second number (zero to five): five\n",
      "one minus five equals four\n",
      "Thanks for using this calculator, goodbye :)\n"
     ]
    }
   ],
   "source": [
    "calculator()"
   ]
  },
  {
   "cell_type": "markdown",
   "metadata": {},
   "source": [
    "# Other way with dict"
   ]
  },
  {
   "cell_type": "code",
   "execution_count": 169,
   "metadata": {},
   "outputs": [],
   "source": [
    "\n",
    "\n",
    "def initiateCaluclator():\n",
    "    print('Welcome to this calculator!')\n",
    "    print('It can add and subtract whole numbers from zero to five')\n",
    "    firstNumber = input('Please choose your first number (zero to five): ')\n",
    "    operation = input('What do you want to do? plus or minus: ')\n",
    "    secondNumber = input('Please choose your second number (zero to five): ')\n",
    "    return(firstNumber,operation,secondNumber)\n",
    "\n",
    "\n",
    "listNumber = ['zero','one', 'two','three','four','five']\n",
    "\n",
    "    \n",
    "matchStringAndNumber = {'zero':0, 'one':1,'two': 2, 'three': 3, 'four': 4, 'five': 5, 'six': 6, 'seven': 7, 'eigth': 8, 'nine':9,'ten':10}\n",
    "\n",
    "def getKeysByValue(dictionary, valueToFind):\n",
    "    for string, number in dictionary.items():    \n",
    "        if number == abs(valueToFind):\n",
    "            return(string)\n",
    "    \n",
    "def addition(a, b):\n",
    "    result = matchStringAndNumber[a] + matchStringAndNumber[b]   \n",
    "    print(a + ' plus ' + b + ' equals ' + getKeysByValue(matchStringAndNumber, result))\n",
    "\n",
    "def subsctraction(a, b):\n",
    "    result = matchStringAndNumber[a] - matchStringAndNumber[b]\n",
    "    if result>0:\n",
    "        print(a + ' minus ' + b + ' equals ' + getKeysByValue(matchStringAndNumber, result))\n",
    "    else:\n",
    "        print(a + ' minus ' + b + ' equals negative ' + getKeysByValue(matchStringAndNumber, result))\n",
    "\n",
    "\n",
    "def calculator():\n",
    "    (firstNumber,operation,secondNumber) = initiateCaluclator()\n",
    "    if firstNumber not in listNumber or secondNumber not in listNumber or operation not in ['plus','minus']:\n",
    "        print(\"I am not able to answer this question. Check your input.\")\n",
    "    elif operation == 'plus':\n",
    "        addition(firstNumber, secondNumber)\n",
    "    elif operation == 'minus':\n",
    "        subsctraction(firstNumber, secondNumber)\n",
    "        print(\"Thanks for using this calculator, goodbye :)\")"
   ]
  },
  {
   "cell_type": "code",
   "execution_count": 159,
   "metadata": {},
   "outputs": [
    {
     "data": {
      "text/plain": [
       "4"
      ]
     },
     "execution_count": 159,
     "metadata": {},
     "output_type": "execute_result"
    }
   ],
   "source": [
    "matchStringAndNumber['four']"
   ]
  },
  {
   "cell_type": "code",
   "execution_count": 160,
   "metadata": {},
   "outputs": [
    {
     "data": {
      "text/plain": [
       "'four'"
      ]
     },
     "execution_count": 160,
     "metadata": {},
     "output_type": "execute_result"
    }
   ],
   "source": [
    "getKeysByValue(matchStringAndNumber, -4)"
   ]
  },
  {
   "cell_type": "code",
   "execution_count": 170,
   "metadata": {},
   "outputs": [
    {
     "name": "stdout",
     "output_type": "stream",
     "text": [
      "three minus four equals negative one\n"
     ]
    }
   ],
   "source": [
    "subsctraction('three', 'four')"
   ]
  },
  {
   "cell_type": "code",
   "execution_count": 171,
   "metadata": {},
   "outputs": [
    {
     "name": "stdout",
     "output_type": "stream",
     "text": [
      "Welcome to this calculator!\n",
      "It can add and subtract whole numbers from zero to five\n",
      "Please choose your first number (zero to five): four\n",
      "What do you want to do? plus or minus: minus\n",
      "Please choose your second number (zero to five): five\n",
      "four minus five equals negative one\n",
      "Thanks for using this calculator, goodbye :)\n"
     ]
    }
   ],
   "source": [
    "calculator()"
   ]
  },
  {
   "cell_type": "code",
   "execution_count": 175,
   "metadata": {},
   "outputs": [
    {
     "data": {
      "text/plain": [
       "['zero', 'one', 'two', 'three', 'four', 'five']"
      ]
     },
     "execution_count": 175,
     "metadata": {},
     "output_type": "execute_result"
    }
   ],
   "source": [
    "list(matchStringAndNumber.keys())[:6]"
   ]
  },
  {
   "cell_type": "code",
   "execution_count": 178,
   "metadata": {},
   "outputs": [
    {
     "data": {
      "text/plain": [
       "True"
      ]
     },
     "execution_count": 178,
     "metadata": {},
     "output_type": "execute_result"
    }
   ],
   "source": [
    "('zero', 'one') not in list(matchStringAndNumber.keys())[:6]"
   ]
  },
  {
   "cell_type": "code",
   "execution_count": null,
   "metadata": {},
   "outputs": [],
   "source": []
  }
 ],
 "metadata": {
  "kernelspec": {
   "display_name": "Python 3",
   "language": "python",
   "name": "python3"
  },
  "language_info": {
   "codemirror_mode": {
    "name": "ipython",
    "version": 3
   },
   "file_extension": ".py",
   "mimetype": "text/x-python",
   "name": "python",
   "nbconvert_exporter": "python",
   "pygments_lexer": "ipython3",
   "version": "3.7.3"
  }
 },
 "nbformat": 4,
 "nbformat_minor": 2
}
