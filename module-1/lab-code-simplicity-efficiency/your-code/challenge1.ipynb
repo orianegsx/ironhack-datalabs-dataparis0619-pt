{
 "cells": [
  {
   "cell_type": "markdown",
   "metadata": {},
   "source": [
    "# First way to do it"
   ]
  },
  {
   "cell_type": "code",
   "execution_count": 186,
   "metadata": {},
   "outputs": [],
   "source": [
    "\n",
    "def initiate_caluclator():\n",
    "    print('Welcome to this calculator!')\n",
    "    print('It can add and subtract whole numbers from zero to five')\n",
    "    firstNumber = input('Please choose your first number (zero to five): ')\n",
    "    operation = input('What do you want to do? plus or minus: ')\n",
    "    secondNumber = input('Please choose your second number (zero to five): ')\n",
    "    return(firstNumber,operation,secondNumber)\n",
    "\n",
    "\n",
    "list_number = ['zero','one', 'two','three','four','five']\n",
    "\n",
    "def transform_to_number(string): #Faire un dict\n",
    "    if string == 'zero':\n",
    "        return(int(0))\n",
    "    if string == 'one':\n",
    "        return(int(1))\n",
    "    if string == 'two':\n",
    "        return(int(2))\n",
    "    if string == 'three':\n",
    "        return(int(3))\n",
    "    if string == 'four':\n",
    "        return(int(4))\n",
    "    if string == 'five':\n",
    "        return(int(5))\n",
    "\n",
    "    \n",
    "def transform_to_string(number): #Faire un dict\n",
    "    positive_number = abs(number)\n",
    "    if positive_number == 0:\n",
    "        return('zero')\n",
    "    if positive_number == 1:\n",
    "        return('one')\n",
    "    if positive_number == 2:\n",
    "        return('two')\n",
    "    if positive_number == 3:\n",
    "        return('three')\n",
    "    if positive_number == 4:\n",
    "        return('four')\n",
    "    if positive_number == 5:\n",
    "        return('five')\n",
    "    if positive_number == 6:\n",
    "        return('six')\n",
    "    if positive_number == 7:\n",
    "        return('one')\n",
    "    if positive_number == 8:\n",
    "        return('eight')\n",
    "    if positive_number == 9:\n",
    "        return('nine')\n",
    "    if positive_number == 10:\n",
    "        return('ten')\n",
    "\n",
    "    \n",
    "    \n",
    "def addition(a, b):\n",
    "    result = transform_to_number(a) + transform_to_number(b)   \n",
    "    print(a + ' plus ' + b + ' equals ' + transform_to_string(result))\n",
    "\n",
    "def subsctraction(a, b):\n",
    "    result = transform_to_number(a) - transform_to_number(b)\n",
    "    if result>=0:\n",
    "        print(a + ' minus ' + b + ' equals ' + transform_to_string(abs(result)))\n",
    "    else:\n",
    "        print(a + ' minus ' + b + ' equals negative ' + transform_to_string(abs(result)))\n",
    "\n",
    "\n",
    "def calculator():\n",
    "    (first_number,operation,second_number) = initiate_caluclator()\n",
    "    if first_number not in list_number or second_number not in list_number or operation not in ['plus','minus']:\n",
    "        print(\"I am not able to answer this question. Check your input.\")\n",
    "    elif operation == 'plus':\n",
    "        addition(first_number, second_number)\n",
    "    elif operation == 'minus':\n",
    "        subsctraction(first_number, second_number)\n",
    "    print(\"Thanks for using this calculator, goodbye :)\")"
   ]
  },
  {
   "cell_type": "code",
   "execution_count": 187,
   "metadata": {},
   "outputs": [
    {
     "name": "stdout",
     "output_type": "stream",
     "text": [
      "Welcome to this calculator!\n",
      "It can add and subtract whole numbers from zero to five\n",
      "Please choose your first number (zero to five): zero\n",
      "What do you want to do? plus or minus: minus\n",
      "Please choose your second number (zero to five): zero\n",
      "zero minus zero equals zero\n",
      "Thanks for using this calculator, goodbye :)\n"
     ]
    }
   ],
   "source": [
    "calculator()"
   ]
  },
  {
   "cell_type": "markdown",
   "metadata": {},
   "source": [
    "# Other way with dict"
   ]
  },
  {
   "cell_type": "code",
   "execution_count": 190,
   "metadata": {},
   "outputs": [],
   "source": [
    "def initiate_caluclator():\n",
    "    print('Welcome to this calculator!')\n",
    "    print('It can add and subtract whole numbers from zero to five')\n",
    "    first_number = input('Please choose your first number (zero to five): ')\n",
    "    operation = input('What do you want to do? plus or minus: ')\n",
    "    second_number = input('Please choose your second number (zero to five): ')\n",
    "    return(first_number,operation,second_number)\n",
    "\n",
    "#On crée un dico avec les clés valeurs\n",
    "match_string_and_number = {'zero':0, 'one':1,'two': 2, 'three': 3, 'four': 4, 'five': 5, 'six': 6, 'seven': 7, 'eigth': 8, 'nine':9,'ten':10}\n",
    "\n",
    "#On ne souhaite faire des opération que sur des chiffre de 0 à 5 donc on prends les 5 première clés\n",
    "list_number = set(list(match_string_and_number.keys())[:6])#On le met en set pour que ce soit plus rapide\n",
    "\n",
    "#On crée un fonction qui trouve la key a partir d'une valeur. On fait attention au negative\n",
    "def get_keys_by_value(value_to_find):\n",
    "    for string, number in match_string_and_number.items():    \n",
    "        if number == abs(value_to_find):\n",
    "            return(string)\n",
    "    \n",
    "#On crée les fonctions\n",
    "def addition(a, b):\n",
    "    result = match_string_and_number[a] + match_string_and_number[b]   \n",
    "    print(a + ' plus ' + b + ' equals ' + get_keys_by_value(result))\n",
    "\n",
    "def subsctraction(a, b):\n",
    "    result = match_string_and_number[a] - match_string_and_number[b]\n",
    "    if result>=0:\n",
    "        print(a + ' minus ' + b + ' equals ' + get_keys_by_value(result))\n",
    "    else:\n",
    "        print(a + ' minus ' + b + ' equals negative ' + get_keys_by_value(result))\n",
    "\n",
    "\n",
    "#La fonction qui initie tout\n",
    "def calculator():\n",
    "    (first_number,operation,second_number) = initiate_caluclator()\n",
    "    if first_number not in list_number or second_number not in list_number or operation not in ['plus','minus']:\n",
    "        print(\"I am not able to answer this question. Check your input.\")\n",
    "    elif operation == 'plus':\n",
    "        addition(first_number, second_number)\n",
    "    elif operation == 'minus':\n",
    "        subsctraction(first_number, second_number)\n",
    "    print(\"Thanks for using this calculator, goodbye :)\")"
   ]
  },
  {
   "cell_type": "code",
   "execution_count": 191,
   "metadata": {},
   "outputs": [
    {
     "name": "stdout",
     "output_type": "stream",
     "text": [
      "Welcome to this calculator!\n",
      "It can add and subtract whole numbers from zero to five\n",
      "Please choose your first number (zero to five): zero\n",
      "What do you want to do? plus or minus: minus\n",
      "Please choose your second number (zero to five): zero\n",
      "zero minus zero equals zero\n",
      "Thanks for using this calculator, goodbye :)\n"
     ]
    }
   ],
   "source": [
    "calculator()"
   ]
  },
  {
   "cell_type": "code",
   "execution_count": null,
   "metadata": {},
   "outputs": [],
   "source": []
  }
 ],
 "metadata": {
  "kernelspec": {
   "display_name": "Python 3",
   "language": "python",
   "name": "python3"
  },
  "language_info": {
   "codemirror_mode": {
    "name": "ipython",
    "version": 3
   },
   "file_extension": ".py",
   "mimetype": "text/x-python",
   "name": "python",
   "nbconvert_exporter": "python",
   "pygments_lexer": "ipython3",
   "version": "3.7.3"
  }
 },
 "nbformat": 4,
 "nbformat_minor": 2
}
