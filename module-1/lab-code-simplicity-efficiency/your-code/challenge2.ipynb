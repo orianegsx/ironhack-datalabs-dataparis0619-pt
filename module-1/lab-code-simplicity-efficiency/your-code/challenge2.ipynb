{
 "cells": [
  {
   "cell_type": "code",
   "execution_count": 48,
   "metadata": {},
   "outputs": [],
   "source": [
    "import random\n",
    "import sys\n",
    "\n",
    "\n",
    "posibilities = ['a','b','c','d','e','f','g','h','i','j','k','l','m','n','o','p','q','r','s','t','u','v','w','x','y','z','0','1','2','3','4','5','6','7','8','9']\n",
    "initial_max_number = 12\n",
    "\n",
    "def random_string_generator(number_of_letters=initial_max_number, possibilities=posibilities):\n",
    "    random_string = ''\n",
    "    count = 0\n",
    "    while count < number_of_letters:\n",
    "        random_string += random.choice(possibilities)\n",
    "        count += 1\n",
    "    return random_string\n",
    "\n",
    "def batch_string_generator(number_of_strings, min_number_of_letter=8, max_number_of_letter=12):\n",
    "    r = []\n",
    "    for i in range(number_of_strings):\n",
    "        if min_number_of_letter < max_number_of_letter:\n",
    "            c = random.choice(range(min_number_of_letter, max_number_of_letter + 1))\n",
    "            r.append(random_string_generator(c))\n",
    "        else:\n",
    "            sys.exit('Incorrect min and max string lengths. Try again.')\n",
    "    return r\n",
    "\n",
    "def string_generate():\n",
    "    number_of_strings = input('How many random strings to generate? ')\n",
    "    minimum = input('Enter minimum string length: ')\n",
    "    maximum = input('Enter maximum string length: ')\n",
    "    return (batch_string_generator(int(number_of_strings), int(minimum), int(maximum)))\n",
    "\n"
   ]
  },
  {
   "cell_type": "code",
   "execution_count": 49,
   "metadata": {},
   "outputs": [
    {
     "name": "stdout",
     "output_type": "stream",
     "text": [
      "How many random strings to generate? 5\n",
      "Enter minimum string length: 6\n",
      "Enter maximum string length: 7\n"
     ]
    },
    {
     "data": {
      "text/plain": [
       "['mrfzkcz', 'yaiul9', 's6n4xo9', 'cj6tkzw', 'ypeu6pu']"
      ]
     },
     "execution_count": 49,
     "metadata": {},
     "output_type": "execute_result"
    }
   ],
   "source": [
    "string_generate()"
   ]
  },
  {
   "cell_type": "code",
   "execution_count": 22,
   "metadata": {},
   "outputs": [
    {
     "data": {
      "text/plain": [
       "'b31g'"
      ]
     },
     "execution_count": 22,
     "metadata": {},
     "output_type": "execute_result"
    }
   ],
   "source": [
    "RandomStringGenerator(4,initialPosibilities)"
   ]
  },
  {
   "cell_type": "code",
   "execution_count": 25,
   "metadata": {},
   "outputs": [
    {
     "data": {
      "text/plain": [
       "['h00', 'ddtl']"
      ]
     },
     "execution_count": 25,
     "metadata": {},
     "output_type": "execute_result"
    }
   ],
   "source": [
    "BatchStringGenerator(2, 3, 5)"
   ]
  },
  {
   "cell_type": "code",
   "execution_count": 28,
   "metadata": {},
   "outputs": [],
   "source": [
    "c = random.choice(range(0,1))"
   ]
  },
  {
   "cell_type": "code",
   "execution_count": 32,
   "metadata": {},
   "outputs": [
    {
     "data": {
      "text/plain": [
       "'s4s1'"
      ]
     },
     "execution_count": 32,
     "metadata": {},
     "output_type": "execute_result"
    }
   ],
   "source": [
    "RandomStringGenerator(4,initialPosibilities)"
   ]
  },
  {
   "cell_type": "code",
   "execution_count": null,
   "metadata": {},
   "outputs": [],
   "source": []
  }
 ],
 "metadata": {
  "kernelspec": {
   "display_name": "Python 3",
   "language": "python",
   "name": "python3"
  },
  "language_info": {
   "codemirror_mode": {
    "name": "ipython",
    "version": 3
   },
   "file_extension": ".py",
   "mimetype": "text/x-python",
   "name": "python",
   "nbconvert_exporter": "python",
   "pygments_lexer": "ipython3",
   "version": "3.7.3"
  }
 },
 "nbformat": 4,
 "nbformat_minor": 2
}
