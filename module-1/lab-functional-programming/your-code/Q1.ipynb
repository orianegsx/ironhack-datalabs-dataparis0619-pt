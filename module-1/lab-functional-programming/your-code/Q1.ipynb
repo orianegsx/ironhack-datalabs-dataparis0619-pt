{
 "cells": [
  {
   "cell_type": "markdown",
   "metadata": {},
   "source": [
    "In the cell below, create a Python function that wraps your previous solution for the Bag of Words lab.\n",
    "\n",
    "Requirements:\n",
    "\n",
    "1. Your function should accept the following parameters:\n",
    "    * `docs` [REQUIRED] - array of document paths.\n",
    "    * `stop_words` [OPTIONAL] - array of stop words. The default value is an empty array.\n",
    "\n",
    "1. Your function should return a Python object that contains the following:\n",
    "    * `bag_of_words` - array of strings of normalized unique words in the corpus.\n",
    "    * `term_freq` - array of the term-frequency vectors."
   ]
  },
  {
   "cell_type": "code",
   "execution_count": 1,
   "metadata": {},
   "outputs": [
    {
     "data": {
      "text/plain": [
       "{'bag_of_words': ['ironhack',\n",
       "  'is',\n",
       "  'cool',\n",
       "  'i',\n",
       "  'love',\n",
       "  'am',\n",
       "  'a',\n",
       "  'student',\n",
       "  'at'],\n",
       " 'term_freq': [[1, 1, 1, 0, 0, 0, 0, 0, 0],\n",
       "  [1, 0, 0, 1, 1, 0, 0, 0, 0],\n",
       "  [1, 0, 0, 1, 0, 1, 1, 1, 1]]}"
      ]
     },
     "execution_count": 1,
     "metadata": {},
     "output_type": "execute_result"
    }
   ],
   "source": [
    "# Import required libraries\n",
    "\n",
    "import re\n",
    "\n",
    "\n",
    "# Define function\n",
    "def get_bow_from_docs(docs, stop_words=[]):\n",
    "    \n",
    "    # In the function, first define the variables you will use such as `corpus`, `bag_of_words`, and `term_freq`.\n",
    "    \n",
    "    \n",
    "    \n",
    "    \"\"\"\n",
    "    Loop `docs` and read the content of each doc into a string in `corpus`.\n",
    "    Remember to convert the doc content to lowercases and remove punctuation.\n",
    "    \"\"\"\n",
    "    corpus = []\n",
    "    for path in docs:\n",
    "        r = open(path)\n",
    "        readDoc = r.read()\n",
    "        readDoc = re.sub('[^\\w\\s]','',readDoc)\n",
    "        corpus.append(readDoc.lower())\n",
    "    #print(corpus)\n",
    "    \n",
    "    \"\"\"\n",
    "    Loop `corpus`. Append the terms in each doc into the `bag_of_words` array. The terms in `bag_of_words` \n",
    "    should be unique which means before adding each term you need to check if it's already added to the array.\n",
    "    In addition, check if each term is in the `stop_words` array. Only append the term to `bag_of_words`\n",
    "    if it is not a stop word.\n",
    "    \"\"\"\n",
    "    bag_of_words = []\n",
    "    for i in corpus:\n",
    "        for j in i.split():\n",
    "            if j not in bag_of_words:\n",
    "                bag_of_words.append(j)\n",
    "\n",
    "            \n",
    "    for i in stop_words:\n",
    "        if i in bag_of_words:\n",
    "            bag_of_words.remove(i)\n",
    "    \n",
    "    \"\"\"\n",
    "    Loop `corpus` again. For each doc string, count the number of occurrences of each term in `bag_of_words`. \n",
    "    Create an array for each doc's term frequency and append it to `term_freq`.\n",
    "    \"\"\"\n",
    "    term_freq = []\n",
    "    for i in corpus:\n",
    "        l = i.split()\n",
    "        tab = []\n",
    "        for j in bag_of_words:\n",
    "            tab.append(l.count(j)) \n",
    "        term_freq.append(tab)\n",
    "    \n",
    "    \n",
    "    # Now return your output as an object\n",
    "    return {\n",
    "        \"bag_of_words\": bag_of_words,\n",
    "        \"term_freq\": term_freq\n",
    "    }\n",
    "\n",
    "\n",
    "get_bow_from_docs(['../../lab-string-operations/your-code/doc1.txt', '../../lab-string-operations/your-code/doc2.txt', '../../lab-string-operations/your-code/doc3.txt'], stop_words=[])\n",
    "\n",
    "\n",
    "\n",
    "\n",
    "\n"
   ]
  },
  {
   "cell_type": "code",
   "execution_count": null,
   "metadata": {},
   "outputs": [],
   "source": []
  },
  {
   "cell_type": "markdown",
   "metadata": {},
   "source": [
    "Test your function without stop words. You should see the output like below:\n",
    "\n",
    "```{'bag_of_words': ['ironhack', 'is', 'cool', 'i', 'love', 'am', 'a', 'student', 'at'], 'term_freq': [[1, 1, 1, 0, 0, 0, 0, 0, 0], [1, 0, 0, 1, 1, 0, 0, 0, 0], [1, 0, 0, 1, 0, 1, 1, 1, 1]]}```"
   ]
  },
  {
   "cell_type": "code",
   "execution_count": 23,
   "metadata": {},
   "outputs": [
    {
     "name": "stdout",
     "output_type": "stream",
     "text": [
      "{'bag_of_words': ['ironhack', 'is', 'cool', 'i', 'love', 'am', 'a', 'student', 'at'], 'term_freq': [[1, 1, 1, 0, 0, 0, 0, 0, 0], [1, 0, 0, 1, 1, 0, 0, 0, 0], [1, 0, 0, 1, 0, 1, 1, 1, 1]]}\n"
     ]
    }
   ],
   "source": [
    "# Define doc paths array\n",
    "docs = ['../../lab-string-operations/your-code/doc1.txt', '../../lab-string-operations/your-code/doc2.txt', '../../lab-string-operations/your-code/doc3.txt']\n",
    "\n",
    "# Obtain BoW from your function\n",
    "bow = get_bow_from_docs(docs)\n",
    "\n",
    "# Print BoW\n",
    "print(bow)"
   ]
  },
  {
   "cell_type": "markdown",
   "metadata": {},
   "source": [
    "If your attempt above is successful, nice work done!\n",
    "\n",
    "Now test your function again with the stop words. In the previous lab we defined the stop words in a large array. In this lab, we'll import the stop words from Scikit-Learn."
   ]
  },
  {
   "cell_type": "code",
   "execution_count": 24,
   "metadata": {},
   "outputs": [
    {
     "name": "stdout",
     "output_type": "stream",
     "text": [
      "frozenset({'however', 'an', 'seem', 'cannot', 'on', 'has', 'etc', 'please', 'our', 'couldnt', 'hasnt', 'anyway', 'therefore', 'others', 'after', 'around', 'sincere', 'last', 'toward', 'sometime', 'each', 'were', 'have', 'bill', 'whoever', 'would', 'de', 'few', 'any', 'do', 'since', 'ours', 'those', 'be', 'anywhere', 'you', 'eight', 'ltd', 'amongst', 'further', 'co', 'afterwards', 'two', 'twenty', 'less', 'before', 'first', 'everyone', 'nobody', 'during', 'found', 'up', 'onto', 'him', 'as', 'within', 'thereafter', 'get', 'even', 'how', 'below', 'hence', 'my', 'meanwhile', 'are', 'mostly', 'con', 'mine', 'next', 'own', 'either', 'hers', 'via', 'somewhere', 'three', 'throughout', 'with', 'go', 'seems', 'former', 'beyond', 'which', 'anyhow', 'cry', 'else', 'we', 'alone', 'although', 'never', 'fire', 'almost', 'well', 'more', 'this', 'bottom', 'us', 'nothing', 'perhaps', 'in', 'name', 'becomes', 'no', 'nor', 'cant', 'only', 'becoming', 'fifty', 're', 'detail', 'ie', 'thick', 'ourselves', 'himself', 'it', 'thin', 'otherwise', 'whither', 'amount', 'inc', 'whence', 'of', 'third', 'besides', 'about', 'itself', 'there', 'most', 'fifteen', 'might', 'nowhere', 'made', 'may', 'thru', 'every', 'these', 'serious', 'call', 'while', 'whenever', 'sixty', 'whatever', 'whereafter', 'anyone', 'put', 'who', 'to', 'them', 'least', 'so', 'someone', 'her', 'whose', 'too', 'wherein', 'forty', 'six', 'eleven', 'find', 'empty', 'one', 'than', 'then', 'namely', 'through', 'together', 'four', 'already', 'sometimes', 'myself', 'am', 'was', 'move', 'your', 'where', 'top', 'between', 'another', 'full', 'thereupon', 'become', 'ever', 'by', 'themselves', 'wherever', 'at', 'and', 'give', 'beforehand', 'rather', 'a', 'ten', 'the', 'what', 'everything', 'many', 'several', 'under', 'once', 'still', 'somehow', 'such', 'been', 'along', 'thus', 'again', 'take', 'moreover', 'formerly', 'whether', 'upon', 'why', 'hereby', 'indeed', 'over', 'hundred', 'that', 'thereby', 'he', 'very', 'system', 'yet', 'towards', 'always', 'same', 'became', 'interest', 'can', 'much', 'had', 'part', 'noone', 'whom', 'seemed', 'back', 'eg', 'all', 'hereupon', 'nevertheless', 'neither', 'due', 'out', 'among', 'some', 'down', 'should', 'see', 'nine', 'until', 'here', 'keep', 'yourself', 'above', 'yours', 'she', 'thence', 'if', 'his', 'from', 'they', 'latterly', 'therein', 'me', 'also', 'done', 'whole', 'is', 'must', 'into', 'anything', 'could', 'mill', 'twelve', 'other', 'herein', 'being', 'beside', 'per', 'often', 'yourselves', 'herself', 'front', 'without', 'un', 'seeming', 'against', 'hereafter', 'fill', 'for', 'or', 'amoungst', 'its', 'everywhere', 'none', 'except', 'something', 'side', 'their', 'whereas', 'show', 'but', 'elsewhere', 'i', 'whereby', 'enough', 'across', 'latter', 'whereupon', 'describe', 'will', 'behind', 'though', 'both', 'not', 'when', 'now', 'because', 'five', 'off'})\n"
     ]
    }
   ],
   "source": [
    "from sklearn.feature_extraction import stop_words\n",
    "print(stop_words.ENGLISH_STOP_WORDS)"
   ]
  },
  {
   "cell_type": "markdown",
   "metadata": {},
   "source": [
    "You should have seen a large list of words that looks like:\n",
    "\n",
    "```frozenset({'across', 'mine', 'cannot', ...})```\n",
    "\n",
    "`frozenset` is a type of Python object that is immutable. In this lab you can use it just like an array without conversion."
   ]
  },
  {
   "cell_type": "markdown",
   "metadata": {},
   "source": [
    "Next, test your function with supplying `stop_words.ENGLISH_STOP_WORDS` as the second parameter."
   ]
  },
  {
   "cell_type": "code",
   "execution_count": 27,
   "metadata": {},
   "outputs": [
    {
     "name": "stdout",
     "output_type": "stream",
     "text": [
      "{'bag_of_words': ['ironhack', 'cool', 'love', 'student'], 'term_freq': [[1, 1, 0, 0], [1, 0, 1, 0], [1, 0, 0, 1]]}\n"
     ]
    }
   ],
   "source": [
    "bow = get_bow_from_docs(docs, stop_words.ENGLISH_STOP_WORDS)\n",
    "\n",
    "print(bow)"
   ]
  },
  {
   "cell_type": "markdown",
   "metadata": {},
   "source": [
    "You should have seen:\n",
    "\n",
    "```{'bag_of_words': ['ironhack', 'cool', 'love', 'student'], 'term_freq': [[1, 1, 0, 0], [1, 0, 1, 0], [1, 0, 0, 1]]}```"
   ]
  },
  {
   "cell_type": "code",
   "execution_count": null,
   "metadata": {},
   "outputs": [],
   "source": [
    "\n"
   ]
  },
  {
   "cell_type": "code",
   "execution_count": null,
   "metadata": {},
   "outputs": [],
   "source": []
  }
 ],
 "metadata": {
  "kernelspec": {
   "display_name": "Python 3",
   "language": "python",
   "name": "python3"
  },
  "language_info": {
   "codemirror_mode": {
    "name": "ipython",
    "version": 3
   },
   "file_extension": ".py",
   "mimetype": "text/x-python",
   "name": "python",
   "nbconvert_exporter": "python",
   "pygments_lexer": "ipython3",
   "version": "3.7.3"
  }
 },
 "nbformat": 4,
 "nbformat_minor": 2
}
