{
 "cells": [
  {
   "cell_type": "code",
   "execution_count": 137,
   "metadata": {},
   "outputs": [
    {
     "name": "stdout",
     "output_type": "stream",
     "text": [
      "1.16.2\n"
     ]
    }
   ],
   "source": [
    "#1. Import the NUMPY package under the name np.\n",
    "import numpy as np\n",
    "#2. Print the NUMPY version and the configuration.\n",
    "print(np.__version__)\n",
    "\n"
   ]
  },
  {
   "cell_type": "code",
   "execution_count": null,
   "metadata": {},
   "outputs": [],
   "source": [
    "\n",
    "\n"
   ]
  },
  {
   "cell_type": "code",
   "execution_count": 138,
   "metadata": {},
   "outputs": [
    {
     "name": "stdout",
     "output_type": "stream",
     "text": [
      "[[[0.47599863 0.05653441 0.11805379 0.63563676 0.63160347]\n",
      "  [0.31899473 0.94365689 0.28040012 0.72667676 0.45265079]\n",
      "  [0.61693605 0.18107868 0.32845838 0.59449591 0.78989338]]\n",
      "\n",
      " [[0.78887922 0.580322   0.83061779 0.72052538 0.15894182]\n",
      "  [0.08007403 0.79409395 0.58461222 0.48293898 0.40116454]\n",
      "  [0.23124419 0.63502246 0.02232195 0.5129496  0.13619579]]]\n"
     ]
    }
   ],
   "source": [
    "#3. Generate a 2x3x5 3-dimensional array with random values. Assign the array to variable \"a\"\n",
    "# Challenge: there are at least three easy ways that use numpy to generate random arrays. How many ways can you find?\n",
    "\n",
    "a = np.random.random((2,3,5))\n",
    "\n",
    "\n",
    "#4. Print a.\n",
    "\n",
    "print(a)\n",
    "\n"
   ]
  },
  {
   "cell_type": "code",
   "execution_count": 139,
   "metadata": {},
   "outputs": [
    {
     "name": "stdout",
     "output_type": "stream",
     "text": [
      "[[[1. 1. 1.]\n",
      "  [1. 1. 1.]]\n",
      "\n",
      " [[1. 1. 1.]\n",
      "  [1. 1. 1.]]\n",
      "\n",
      " [[1. 1. 1.]\n",
      "  [1. 1. 1.]]\n",
      "\n",
      " [[1. 1. 1.]\n",
      "  [1. 1. 1.]]\n",
      "\n",
      " [[1. 1. 1.]\n",
      "  [1. 1. 1.]]]\n"
     ]
    }
   ],
   "source": [
    "#5. Create a 5x2x3 3-dimensional array with all values equaling 1.\n",
    "#Assign the array to variable \"b\"\n",
    "b = np.random.random((5,2,3))\n",
    "b.fill(1)\n",
    "\n",
    "\n",
    "\n",
    "#6. Print b.\n",
    "print(b)\n"
   ]
  },
  {
   "cell_type": "code",
   "execution_count": 140,
   "metadata": {},
   "outputs": [
    {
     "data": {
      "text/plain": [
       "True"
      ]
     },
     "execution_count": 140,
     "metadata": {},
     "output_type": "execute_result"
    }
   ],
   "source": [
    "\n",
    "\n",
    "#7. Do a and b have the same size? How do you prove that in Python code?\n",
    "b.size == a.size\n",
    "\n"
   ]
  },
  {
   "cell_type": "code",
   "execution_count": 141,
   "metadata": {},
   "outputs": [
    {
     "name": "stdout",
     "output_type": "stream",
     "text": [
      "(2, 3, 5)\n",
      "(5, 2, 3)\n"
     ]
    }
   ],
   "source": [
    "print(a.shape)\n",
    "print(b.shape)"
   ]
  },
  {
   "cell_type": "code",
   "execution_count": 142,
   "metadata": {},
   "outputs": [
    {
     "name": "stdout",
     "output_type": "stream",
     "text": [
      "[[[1. 1. 1. 1. 1.]\n",
      "  [1. 1. 1. 1. 1.]\n",
      "  [1. 1. 1. 1. 1.]]\n",
      "\n",
      " [[1. 1. 1. 1. 1.]\n",
      "  [1. 1. 1. 1. 1.]\n",
      "  [1. 1. 1. 1. 1.]]]\n",
      "(2, 3, 5)\n"
     ]
    }
   ],
   "source": [
    "\n",
    "\n",
    "#8. Are you able to add a and b? Why or why not?\n",
    "# We cannot add a and b because they don't have the same shape\n",
    "\n",
    "\n",
    "#9. Transpose b so that it has the same structure of a (i.e. become a 2x3x5 array). Assign the transposed array to varialbe \"c\".\n",
    "c = np.transpose(b, (1,2,0))\n",
    "\n",
    "print(c)\n",
    "#10. Try to add a and c. Now it should work. Assign the sum to varialbe \"d\". But why does it work now?\n",
    "print(c.shape)"
   ]
  },
  {
   "cell_type": "code",
   "execution_count": 143,
   "metadata": {},
   "outputs": [
    {
     "name": "stdout",
     "output_type": "stream",
     "text": [
      "[[[0.47599863 0.05653441 0.11805379 0.63563676 0.63160347]\n",
      "  [0.31899473 0.94365689 0.28040012 0.72667676 0.45265079]\n",
      "  [0.61693605 0.18107868 0.32845838 0.59449591 0.78989338]]\n",
      "\n",
      " [[0.78887922 0.580322   0.83061779 0.72052538 0.15894182]\n",
      "  [0.08007403 0.79409395 0.58461222 0.48293898 0.40116454]\n",
      "  [0.23124419 0.63502246 0.02232195 0.5129496  0.13619579]]]\n",
      "[[[1.47599863 1.05653441 1.11805379 1.63563676 1.63160347]\n",
      "  [1.31899473 1.94365689 1.28040012 1.72667676 1.45265079]\n",
      "  [1.61693605 1.18107868 1.32845838 1.59449591 1.78989338]]\n",
      "\n",
      " [[1.78887922 1.580322   1.83061779 1.72052538 1.15894182]\n",
      "  [1.08007403 1.79409395 1.58461222 1.48293898 1.40116454]\n",
      "  [1.23124419 1.63502246 1.02232195 1.5129496  1.13619579]]]\n",
      "[[[0.47599863 0.05653441 0.11805379 0.63563676 0.63160347]\n",
      "  [0.31899473 0.94365689 0.28040012 0.72667676 0.45265079]\n",
      "  [0.61693605 0.18107868 0.32845838 0.59449591 0.78989338]]\n",
      "\n",
      " [[0.78887922 0.580322   0.83061779 0.72052538 0.15894182]\n",
      "  [0.08007403 0.79409395 0.58461222 0.48293898 0.40116454]\n",
      "  [0.23124419 0.63502246 0.02232195 0.5129496  0.13619579]]]\n"
     ]
    }
   ],
   "source": [
    "\n",
    "d = np.add(a, c)\n",
    "\n",
    "#11. Print a and d. Notice the difference and relation of the two array in terms of the values? Explain.\n",
    "print(a)\n",
    "print(d)\n",
    "\n",
    "\n",
    "\n",
    "#12. Multiply a and c. Assign the result to e.\n",
    "e = np.multiply(a, c)\n",
    "\n",
    "print(e)\n",
    "#13. Does e equal to a? Why or why not?\n",
    "\n",
    "\n",
    "\n",
    "\n",
    "#14. Identify the max, min, and mean values in d. Assign those values to variables \"d_max\", \"d_min\", and \"d_mean\"\n",
    "\n",
    "d_max = np.max(d)\n",
    "d_min = np.min(d)\n",
    "d_mean = np.mean(d)\n"
   ]
  },
  {
   "cell_type": "code",
   "execution_count": 158,
   "metadata": {},
   "outputs": [
    {
     "name": "stdout",
     "output_type": "stream",
     "text": [
      "[[[0. 0. 0. 0. 0.]\n",
      "  [0. 0. 0. 0. 0.]\n",
      "  [0. 0. 0. 0. 0.]]\n",
      "\n",
      " [[0. 0. 0. 0. 0.]\n",
      "  [0. 0. 0. 0. 0.]\n",
      "  [0. 0. 0. 0. 0.]]]\n",
      "1.943656890565622\n",
      "1.0223219490779996\n",
      "1.4703657551423186\n"
     ]
    }
   ],
   "source": [
    "\n",
    "\n",
    "#15. Now we want to label the values in d. First create an empty array \"f\" with the same shape (i.e. 2x3x5) as d using `np.empty`.\n",
    "f = np.empty((2,3,5))\n",
    "\n",
    "f.fill(0)\n",
    "\n",
    "\n",
    "\n",
    "print(f)\n",
    "\n",
    "print(d_max)\n",
    "print(d_min)\n",
    "print(d_mean)\n"
   ]
  },
  {
   "cell_type": "code",
   "execution_count": 115,
   "metadata": {},
   "outputs": [
    {
     "name": "stdout",
     "output_type": "stream",
     "text": [
      "[[[1.30580582 1.93952518 1.22288415 1.05914428 1.24370538]\n",
      "  [1.20885413 1.4777137  1.33351943 1.95010328 1.37859669]\n",
      "  [1.57519114 1.53003965 1.12964416 1.82062505 1.52971388]]\n",
      "\n",
      " [[1.75115608 1.89909403 1.03686588 1.56165668 1.3886439 ]\n",
      "  [1.35155212 1.4628572  1.27921104 1.52379678 1.21988318]\n",
      "  [1.00672169 1.29145804 1.52107148 1.66435158 1.86159621]]]\n",
      "1.950103283690435\n",
      "1.0067216868975941\n",
      "1.4508327271709665\n",
      "[[[ 25.  75.  25.  25.  25.]\n",
      "  [ 25.  75.  25. 100.  25.]\n",
      "  [ 75.  75.  25.  75.  75.]]\n",
      "\n",
      " [[ 75.  75.  25.  75.  25.]\n",
      "  [ 25.  75.  25.  75.  25.]\n",
      "  [  0.  25.  75.  75.  75.]]]\n"
     ]
    }
   ],
   "source": [
    "\"\"\"\n",
    "#16. Populate the values in f. For each value in d, if it's larger than d_min but smaller than d_mean, assign 25 to the corresponding value in f.\n",
    "If a value in d is larger than d_mean but smaller than d_max, assign 75 to the corresponding value in f.\n",
    "If a value equals to d_mean, assign 50 to the corresponding value in f.\n",
    "Assign 0 to the corresponding value(s) in f for d_min in d.\n",
    "Assign 100 to the corresponding value(s) in f for d_max in d.\n",
    "In the end, f should have only the following values: 0, 25, 50, 75, and 100.\n",
    "Note: you don't have to use Numpy in this question.\n",
    "\"\"\"\n",
    "#d = (f < d_min).astype(int)\n",
    "\n",
    "for counter, element in enumerate(d):\n",
    "        for counter2, subelement in enumerate(element):\n",
    "            for counter3, subsubelement in enumerate(subelement):\n",
    "                if subsubelement > d_min and subsubelement < d_mean:\n",
    "                    f[counter][counter2][counter3] = 25\n",
    "                elif subsubelement < d_max and subsubelement > d_mean:\n",
    "                    f[counter][counter2][counter3] = 75\n",
    "                elif subsubelement == d_mean:\n",
    "                    f[counter][counter2][counter3] = 50\n",
    "                elif subsubelement == d_max:\n",
    "                    f[counter][counter2][counter3] = 100\n",
    "                elif subsubelement == d_min:\n",
    "                    f[counter][counter2][counter3] = 0\n",
    "                    \n",
    "                    \n",
    "                    \n",
    "                    \n",
    "                    \n",
    "\n",
    "print(d)\n",
    "print(d_max)\n",
    "print(d_min)\n",
    "print(d_mean)\n",
    "print(f)\n",
    "\n",
    "\n"
   ]
  },
  {
   "cell_type": "code",
   "execution_count": 149,
   "metadata": {},
   "outputs": [
    {
     "name": "stdout",
     "output_type": "stream",
     "text": [
      "[[[ 75.  25.  25.  75.  75.]\n",
      "  [ 25. 100.  25.  75.  25.]\n",
      "  [ 75.  25.  25.  75.  75.]]\n",
      "\n",
      " [[ 75.  75.  75.  75.  25.]\n",
      "  [ 25.  75.  75.  75.  25.]\n",
      "  [ 25.  75.   0.  75.  25.]]]\n"
     ]
    }
   ],
   "source": [
    "#f = np.where(d < d_mean and d > d_min, 25, d)\n",
    "#np.where(f < d_mean, 25, d)\n",
    "\n",
    "f = np.empty((2,3,5))\n",
    "\n",
    "f.fill(0)\n",
    "\n",
    "f = np.where((d < d_mean) & (d > d_min), 25, d)\n",
    "\n",
    "\n",
    "f = np.where((f < d_max) & (f > d_mean), 75, f)\n",
    "f = np.where(f == d_max, 100, f)\n",
    "f = np.where(f == d_min, 0, f)\n",
    "f = np.where(f == d_mean, 50, f)\n",
    "\n",
    "\n",
    "\n",
    "print(f)"
   ]
  },
  {
   "cell_type": "code",
   "execution_count": 159,
   "metadata": {},
   "outputs": [
    {
     "name": "stdout",
     "output_type": "stream",
     "text": [
      "[[[ 75.  25.  25.  75.  75.]\n",
      "  [ 25. 100.  25.  75.  25.]\n",
      "  [ 75.  25.  25.  75.  75.]]\n",
      "\n",
      " [[ 75.  75.  75.  75.  25.]\n",
      "  [ 25.  75.  75.  75.  25.]\n",
      "  [ 25.  75.   0.  75.  25.]]]\n"
     ]
    }
   ],
   "source": [
    "f = np.empty((2,3,5))\n",
    "\n",
    "f.fill(0)\n",
    "\n",
    "f = np.where((d < d_mean) & (d > d_min), 25, np.where((d < d_max) & (d > d_mean), 75, np.where(d == d_max, 100, np.where(d == d_min, 0, np.where(d == d_mean, 50, d)))))\n",
    "\n",
    "\n",
    "print(f)"
   ]
  },
  {
   "cell_type": "code",
   "execution_count": null,
   "metadata": {},
   "outputs": [],
   "source": [
    "\"\"\"\n",
    "#17. Print d and f. Do you have your expected f?\n",
    "For instance, if your d is:\n",
    "array([[[1.85836099, 1.67064465, 1.62576044, 1.40243961, 1.88454931],\n",
    "        [1.75354326, 1.69403643, 1.36729252, 1.61415071, 1.12104981],\n",
    "        [1.72201435, 1.1862918 , 1.87078449, 1.7726778 , 1.88180042]],\n",
    "\n",
    "       [[1.44747908, 1.31673383, 1.02000951, 1.52218947, 1.97066381],\n",
    "        [1.79129243, 1.74983003, 1.96028037, 1.85166831, 1.65450881],\n",
    "        [1.18068344, 1.9587381 , 1.00656599, 1.93402165, 1.73514584]]])\n",
    "\n",
    "Your f should be:\n",
    "array([[[ 75.,  75.,  75.,  25.,  75.],\n",
    "        [ 75.,  75.,  25.,  25.,  25.],\n",
    "        [ 75.,  25.,  75.,  75.,  75.]],\n",
    "\n",
    "       [[ 25.,  25.,  25.,  25., 100.],\n",
    "        [ 75.,  75.,  75.,  75.,  75.],\n",
    "        [ 25.,  75.,   0.,  75.,  75.]]])\n",
    "\"\"\""
   ]
  },
  {
   "cell_type": "code",
   "execution_count": 161,
   "metadata": {},
   "outputs": [
    {
     "name": "stdout",
     "output_type": "stream",
     "text": [
      "[[['D' 'B' 'B' 'D' 'D']\n",
      "  ['B' 'E' 'B' 'D' 'B']\n",
      "  ['D' 'B' 'B' 'D' 'D']]\n",
      "\n",
      " [['D' 'D' 'D' 'D' 'B']\n",
      "  ['B' 'D' 'D' 'D' 'B']\n",
      "  ['B' 'D' 'A' 'D' 'B']]]\n"
     ]
    }
   ],
   "source": [
    "\"\"\"\n",
    "#18. Bonus question: instead of using numbers (i.e. 0, 25, 50, 75, and 100), how to use string values \n",
    "(\"A\", \"B\", \"C\", \"D\", and \"E\") to label the array elements? You are expecting the result to be:\n",
    "array([[[ 'D',  'D',  'D',  'B',  'D'],\n",
    "        [ 'D',  'D',  'B',  'B',  'B'],\n",
    "        [ 'D',  'B',  'D',  'D',  'D']],\n",
    "\n",
    "       [[ 'B',  'B',  'B',  'B',  'E'],\n",
    "        [ 'D',  'D',  'D',  'D',  'D'],\n",
    "        [ 'B',  'D',   'A',  'D', 'D']]])\n",
    "Again, you don't need Numpy in this question.\n",
    "\"\"\"\n",
    "g = np.empty((2,3,5))\n",
    "\n",
    "g.fill(0)\n",
    "\n",
    "\n",
    "g = np.where((d < d_mean) & (d > d_min), \"B\", np.where((d < d_max) & (d > d_mean), \"D\", np.where(d == d_max, \"E\", np.where(d == d_min, \"A\", np.where(d == d_mean, \"C\", d)))))\n",
    "\n",
    "\n",
    "print(g)\n"
   ]
  }
 ],
 "metadata": {
  "kernelspec": {
   "display_name": "Python 3",
   "language": "python",
   "name": "python3"
  },
  "language_info": {
   "codemirror_mode": {
    "name": "ipython",
    "version": 3
   },
   "file_extension": ".py",
   "mimetype": "text/x-python",
   "name": "python",
   "nbconvert_exporter": "python",
   "pygments_lexer": "ipython3",
   "version": "3.7.3"
  }
 },
 "nbformat": 4,
 "nbformat_minor": 2
}
