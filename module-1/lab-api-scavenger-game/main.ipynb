{
 "cells": [
  {
   "cell_type": "code",
   "execution_count": null,
   "metadata": {},
   "outputs": [],
   "source": [
    "#With curl I created a file .json \n",
    "#curl -u owner:access https://api.github.com/repos/mayadesp/ironhack-datalabs-dataparis0619-pt/forks > forks_list.json\n",
    "\n"
   ]
  },
  {
   "cell_type": "code",
   "execution_count": 1,
   "metadata": {},
   "outputs": [],
   "source": [
    "#Import librairy\n",
    "import json\n",
    "import requests\n",
    "import pandas as pd\n",
    "from pandas.io.json import json_normalize\n",
    "\n",
    "\n"
   ]
  },
  {
   "cell_type": "code",
   "execution_count": 58,
   "metadata": {},
   "outputs": [],
   "source": [
    "#Read the json\n",
    "url = 'https://api.github.com/repos/mayadesp/ironhack-datalabs-dataparis0619-pt/forks'"
   ]
  },
  {
   "cell_type": "code",
   "execution_count": 59,
   "metadata": {},
   "outputs": [
    {
     "data": {
      "text/plain": [
       "{'message': \"API rate limit exceeded for 195.134.167.217. (But here's the good news: Authenticated requests get a higher rate limit. Check out the documentation for more details.)\",\n",
       " 'documentation_url': 'https://developer.github.com/v3/#rate-limiting'}"
      ]
     },
     "execution_count": 59,
     "metadata": {},
     "output_type": "execute_result"
    }
   ],
   "source": [
    "response = requests.get(url)\n",
    "results = response.json()\n",
    "results"
   ]
  },
  {
   "cell_type": "code",
   "execution_count": 28,
   "metadata": {},
   "outputs": [
    {
     "data": {
      "text/plain": [
       "12"
      ]
     },
     "execution_count": 28,
     "metadata": {},
     "output_type": "execute_result"
    }
   ],
   "source": [
    "flattened_data = json_normalize(results)\n",
    "\n",
    "\n",
    "total = flattened_data['id'].count()\n",
    "total"
   ]
  },
  {
   "cell_type": "code",
   "execution_count": 35,
   "metadata": {},
   "outputs": [
    {
     "data": {
      "text/plain": [
       "[0     Jupyter Notebook\n",
       " 1     Jupyter Notebook\n",
       " 2     Jupyter Notebook\n",
       " 3     Jupyter Notebook\n",
       " 4     Jupyter Notebook\n",
       " 5     Jupyter Notebook\n",
       " 6     Jupyter Notebook\n",
       " 7     Jupyter Notebook\n",
       " 8     Jupyter Notebook\n",
       " 9     Jupyter Notebook\n",
       " 10    Jupyter Notebook\n",
       " 11    Jupyter Notebook\n",
       " Name: language, dtype: object]"
      ]
     },
     "execution_count": 35,
     "metadata": {},
     "output_type": "execute_result"
    }
   ],
   "source": [
    "flattened_data['language']\n",
    "\n",
    "list_language = [flattened_data['language']]\n",
    "list_language"
   ]
  },
  {
   "cell_type": "code",
   "execution_count": 44,
   "metadata": {},
   "outputs": [
    {
     "data": {
      "text/plain": [
       "['Jupyter Notebook']"
      ]
     },
     "execution_count": 44,
     "metadata": {},
     "output_type": "execute_result"
    }
   ],
   "source": [
    "Row_list = []\n",
    "for rows in flattened_data['language']:\n",
    "    if rows not in Row_list:\n",
    "        Row_list.append(rows) \n",
    "        \n",
    "Row_list"
   ]
  },
  {
   "cell_type": "code",
   "execution_count": 57,
   "metadata": {},
   "outputs": [],
   "source": [
    "df=pd.DataFrame()\n",
    "\n",
    "for url in flattened_data['forks_url']:\n",
    "    response = requests.get(url)\n",
    "    results = response.json()\n",
    "    #flattened_data = json_normalize(results)\n",
    "    #flattened_data1 = json_normalize(flattened_data.articles[0])\n",
    "    #flattened_data1=flattened_data1.set_index('sku')\n",
    "    #df = df.append(flattened_data1)\n",
    "    results\n",
    "#df"
   ]
  },
  {
   "cell_type": "code",
   "execution_count": null,
   "metadata": {},
   "outputs": [],
   "source": []
  }
 ],
 "metadata": {
  "kernelspec": {
   "display_name": "Python 3",
   "language": "python",
   "name": "python3"
  },
  "language_info": {
   "codemirror_mode": {
    "name": "ipython",
    "version": 3
   },
   "file_extension": ".py",
   "mimetype": "text/x-python",
   "name": "python",
   "nbconvert_exporter": "python",
   "pygments_lexer": "ipython3",
   "version": "3.7.3"
  }
 },
 "nbformat": 4,
 "nbformat_minor": 2
}
